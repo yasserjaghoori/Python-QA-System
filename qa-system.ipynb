{
 "cells": [
  {
   "cell_type": "code",
   "execution_count": 1,
   "id": "56eb7bd6-c57b-4787-8cc5-fde57b962c64",
   "metadata": {},
   "outputs": [],
   "source": [
    "# AIT 526-001\n",
    "# 03/26/2025 \n",
    "# Team 2: Yasser Jahgoori, Andrej Paskalov, Yaseen Trombati\n",
    "# Programming Assignment #2 Question Answering "
   ]
  },
  {
   "cell_type": "code",
   "execution_count": 2,
   "id": "100e91a4-07b1-4300-a6d7-f99c206c8f6f",
   "metadata": {},
   "outputs": [],
   "source": [
    "# imports\n",
    "import wikipediaapi\n",
    "import wikipedia\n",
    "from wikipedia.exceptions import DisambiguationError, PageError\n",
    "import spacy\n",
    "import en_core_web_sm\n",
    "from spacy import displacy\n",
    "from collections import Counter\n",
    "from pprint import pprint\n",
    "import re\n",
    "import sys\n",
    "import random\n",
    "\n",
    "import json\n",
    "import logging\n",
    "import nbformat"
   ]
  },
  {
   "cell_type": "code",
   "execution_count": 3,
   "id": "34792a48-038c-49dc-b955-43205c95960a",
   "metadata": {},
   "outputs": [],
   "source": [
    "nlp = spacy.load(\"en_core_web_sm\")\n",
    "# Define a user-agent according to Wikipedia's policy\n",
    "user_agent = \"MyWikipediaScraper/1.0 (Contact: your-email@example.com)\"  # Update with your details\n",
    "\n",
    "# Initialize Wikipedia API with user agent\n",
    "wiki = wikipediaapi.Wikipedia(user_agent=user_agent, language=\"en\")\n",
    "\n",
    "# Stores logs\n",
    "log_file = []\n",
    "    \n",
    "def log(question, search, raw_results, answer):\n",
    "    log_entry = {\n",
    "        \"Question\": question,\n",
    "        \"Wikipedia Search\": search,\n",
    "        \"Raw Wikipedia Results\": raw_results,\n",
    "        \"Answer\": answer\n",
    "    }\n",
    "    log_file.append(log_entry)"
   ]
  },
  {
   "cell_type": "code",
   "execution_count": 4,
   "id": "00fced21-02a6-40f8-9efd-5dd3802fbd0c",
   "metadata": {},
   "outputs": [],
   "source": [
    "def fetch_wikipedia_content(subject):\n",
    "    \"\"\"\n",
    "    Fetches the Wikipedia page for the given subject using a search-first approach.\n",
    "    Returns a tuple (summary, full_text, page_count).\n",
    "    \"\"\"\n",
    "    page_count = 0  # Track number of pages processed\n",
    "\n",
    "    try:\n",
    "        # Search for Wikipedia articles using the subject\n",
    "        search_results = wikipedia.search(subject)\n",
    "        if not search_results:\n",
    "            print(f\"No search results found for: {subject}\")\n",
    "            return None, None, page_count  # No results, return None\n",
    "\n",
    "        # Get the first relevant page\n",
    "        for result in search_results:\n",
    "            try:\n",
    "                page = wiki.page(result)\n",
    "                page_count += 1\n",
    "                full_text = getattr(page, 'content', None) or page.summary\n",
    "                print(f\"Page found: {page.title}\")\n",
    "                return page.summary, full_text, page_count\n",
    "            except DisambiguationError as e:\n",
    "                print(f\"Disambiguation error on {result}, trying alternatives...\")\n",
    "                continue  # Skip disambiguation pages\n",
    "            except PageError:\n",
    "                print(f\"PageError: {result} does not exist, trying next...\")\n",
    "                continue  # Skip non-existent pages\n",
    "\n",
    "    except Exception as ex:\n",
    "        print(f\"An error occurred: {ex}\")\n",
    "\n",
    "    return None, None, page_count  # If all attempts fail, return None\n",
    "\n",
    "############################################\n",
    "#         Question Parsing                 #\n",
    "############################################\n",
    "\n",
    "def extract_question_main_elements(question):\n",
    "    # Grammar Check (guardrails)\n",
    "    question_eval = check_question_grammar(question)\n",
    "\n",
    "    if question_eval != \"VALID QUESTION\":\n",
    "        return None, None, None, None, question_eval\n",
    "\n",
    "    \n",
    "    # Clean the question text\n",
    "    cleaned = re.sub(r\"[?!.,]\", \" \", question).strip()\n",
    "    words = cleaned.split()\n",
    "\n",
    "    # Identify question type (Who, What, When, Where)\n",
    "    question_type = words[0].capitalize()\n",
    "    if question_type not in [\"Who\", \"What\", \"When\", \"Where\"]:\n",
    "        return None, None, None, None\n",
    "\n",
    "    doc = nlp(question)\n",
    "    \n",
    "    keywords = []\n",
    "    subject_tokens = []\n",
    "\n",
    "    \"\"\" \n",
    "    If question has pattern: NOUN+ADP+NOUN or NOUN+ADP+ADJ+NOUN\n",
    "        then detect NER that is GPE/ORG/MISC/WORK_OF_ART.\n",
    "        If no NER (GPE/ORG/MISC/WORK_OF_ART) detected then go as usual.\n",
    "    \"\"\"  \n",
    "    # Identify special NERs\n",
    "    for token in doc:\n",
    "        if token.pos_ == \"NOUN\" and token.nbor(1).pos_ == \"ADP\":\n",
    "            # Check if it's NOUN + ADP + NOUN or NOUN + ADP + ADJ + NOUN\n",
    "            if token.nbor(2).pos_ in [\"NOUN\", \"ADJ\"]:\n",
    "                # Look for NER tags: GPE, ORG, MISC, WORK_OF_ART\n",
    "                for ent in doc.ents:\n",
    "                    if ent.label_ in ['GPE', 'ORG', 'MISC', 'WORK_OF_ART']:\n",
    "                        # store as keyword and subject and remove from question\n",
    "                        keywords.append(ent.text)\n",
    "                        subject_tokens.append(ent.text)\n",
    "                        doc_text = doc.text.replace(ent.text, '')  # Remove entity from the text\n",
    "                        doc = nlp(doc_text)  # Recreate the Doc object\n",
    "    \n",
    "    # Get Topic using NER (for SEARCH ENGINE)\n",
    "    keywords.extend([ent.text for ent in doc.ents])\n",
    "    topic = \" \".join(keywords)\n",
    "    \n",
    "    # Get Verbs using POS\n",
    "    verb_tokens = [token.text for token in doc if token.pos_ in [\"AUX\", \"VERB\"]]\n",
    "    verb = \" \".join(verb_tokens).strip()\n",
    "\n",
    "    # Subject using POS (** currently using for SEARCH **)\n",
    "    subject_tokens.extend([token.text for token in doc if token.pos_ in [\"DET\", \"NOUN\", \"PROPN\", \"ADJ\"]])\n",
    "    subject = \" \".join(subject_tokens).strip()\n",
    "\n",
    "    #print(f\"Type: {question_type}, Verb: {verb}, Subject: {subject}, Search: {topic}\")\n",
    "\n",
    "    return question_type, topic, verb, subject, question_eval\n",
    "\n",
    "############################################\n",
    "#     BONUS: Check Question Grammar        #\n",
    "############################################\n",
    "\n",
    "def check_question_grammar(question):\n",
    "    # Strip punctuation (use spaCy to handle this better)\n",
    "    cleaned = re.sub(r\"[^\\w\\s]\", \" \", question).strip()  # Remove all punctuation\n",
    "\n",
    "    # Process the cleaned question with spaCy\n",
    "    doc = nlp(cleaned)\n",
    "\n",
    "    # Check if the question has more than two words\n",
    "    if len(doc) < 3:\n",
    "        return \"INVALID QUESTION: The question must have more than two words.\"\n",
    "    \n",
    "    # Check if the first word is one of the valid WH-question words\n",
    "    if doc[0].text.lower() not in [\"what\", \"when\", \"where\", \"who\"]:\n",
    "        return \"INVALID QUESTION: The question must start with What, When, Where, or Who.\"\n",
    "        \n",
    "    # Check if the second word is an auxiliary verb (AUX) or main verb (VERB)\n",
    "    if doc[1].pos_ not in [\"AUX\", \"VERB\"]:\n",
    "        return \"INVALID QUESTION: The second word must be an auxiliary verb (AUX) or main verb (VERB).\"\n",
    "\n",
    "    # Check for a capitalized NOUN or PROPN\n",
    "    has_noun_propn = any(token.pos_ in [\"NOUN\", \"PROPN\"] and token.text.istitle() for token in doc)\n",
    "    \n",
    "    if not has_noun_propn:\n",
    "        return \"INVALID QUESTION: The question must contain a capitalized NOUN or PROPER NOUN.\"\n",
    "\n",
    "    return \"VALID QUESTION\"\n",
    "\n",
    "############################################\n",
    "#         Extract Keywords                 #\n",
    "############################################\n",
    "\n",
    "def extract_keywords(question):\n",
    "    \n",
    "    # Remove punctuation and tokenize\n",
    "    question = re.sub(r'[^\\w\\s]', '', question)  # Remove punctuation\n",
    "    words = question.split()  # Split into words\n",
    "    \n",
    "    # Drop the first word\n",
    "    words = words[1:]\n",
    "\n",
    "    # Apply spaCy NLP processing\n",
    "    doc = nlp(\" \".join(words))  # Convert cleaned text to spaCy Doc object\n",
    "    \n",
    "    # Filter words by POS (NOUN, PROPN, ADJ, VERB)\n",
    "    keywords = [token.text for token in doc if token.pos_ in {\"NOUN\", \"PROPN\", \"VERB\"}]\n",
    "\n",
    "    return keywords\n",
    "\n",
    "############################################\n",
    "#         Extract Date Answer              #\n",
    "############################################\n",
    "\n",
    "def extract_date(text, topic, question):    \n",
    "    \n",
    "    date_patterns = [\n",
    "        r\"\\b(?:\\d{1,2}[/-]\\d{1,2}[/-]\\d{2,4})\\b\",  # Matches 12/25/2024, 25-12-2024\n",
    "        r\"\\b(?:\\d{1,2}\\s+(?:Jan|Feb|Mar|Apr|May|Jun|Jul|Aug|Sep|Oct|Nov|Dec)[a-z]*\\s+\\d{2,4})\\b\",  # Matches 25 December 2024\n",
    "        r\"\\b(?:Jan|Feb|Mar|Apr|May|Jun|Jul|Aug|Sep|Oct|Nov|Dec)[a-z]*\\s+\\d{1,2},?\\s+\\d{2,4}\\b\",  # Matches December 25, 2024\n",
    "        r'\\b\\d{4}[-–]\\d{4}\\b',  # Matches 1999-2000, 1990–2000\n",
    "        r\"\\b\\d{4}\\b\"  # Matches standalone years like \"2024\"\n",
    "    ]\n",
    "\n",
    "    # Combine into one regex\n",
    "    date_regex = re.compile(\"|\".join(date_patterns), re.IGNORECASE)\n",
    "\n",
    "    # Get list of keywords\n",
    "    keywords = extract_keywords(question)\n",
    "    \n",
    "    # Search for keywords in the text and find date nearby\n",
    "    for keyword in keywords:\n",
    "        match = re.search(rf\"(.{{0,100}}\\b{keyword}\\b.{{0,100}})\", text, re.IGNORECASE)\n",
    "        if match:\n",
    "            surrounding_text = match.group(1)\n",
    "            date_match = date_regex.search(surrounding_text)\n",
    "            if date_match:\n",
    "                return date_match.group()\n",
    "\n",
    "    # If keyword search fails, scan for date\n",
    "    date_match = date_regex.search(text)\n",
    "    if date_match:\n",
    "        return date_match.group()\n",
    "    \n",
    "    return None   \n",
    "\n",
    "############################################\n",
    "#         Extract Location Answer          #\n",
    "############################################\n",
    "\n",
    "def extract_location(text, topic):\n",
    "    text = re.sub(r'\\(.*?\\)', '', text) # removes all content inside parenthesis\n",
    "    doc = nlp(text)\n",
    "    for ent in doc.ents:\n",
    "        if ent.label_ in [\"GPE\", \"LOC\"]:\n",
    "            # Avoid returning the topic itself as the location.\n",
    "            if ent.text.lower() != topic.lower():\n",
    "                return ent.text\n",
    "    # look for a phrase following 'in' or 'at'\n",
    "    match = re.search(r'\\b(?:in|at)\\s+([A-Z][\\w\\s,]+)', text)\n",
    "    if match:\n",
    "        loc = match.group(1).strip()\n",
    "        loc = re.sub(r'\\s+United States.*', '', loc)\n",
    "        if loc.lower() != topic.lower():\n",
    "            return loc\n",
    "    return None\n",
    "\n",
    "############################################\n",
    "#         Extract Individual               #\n",
    "############################################\n",
    "\n",
    "def extract_individual(text, topic):\n",
    "    text = re.sub(r'\\(.*?\\)', '', text) # removes all content inside parenthesis\n",
    "    doc = nlp(text)\n",
    "    for ent in doc.ents:\n",
    "        if ent.label_ in [\"PERSON\"]:\n",
    "            # Avoid returning the topic itself as the location.\n",
    "            if ent.text.lower() != topic.lower():\n",
    "                return ent.text\n",
    "    # look for a phrase following 'in' or 'at'\n",
    "    match = re.search(r'\\b(?:in|at)\\s+([A-Z][\\w\\s,]+)', text)\n",
    "    if match:\n",
    "        loc = match.group(1).strip()\n",
    "        loc = re.sub(r'\\s+United States.*', '', loc)\n",
    "        if loc.lower() != topic.lower():\n",
    "            return loc\n",
    "    return None\n",
    "\n",
    "############################################\n",
    "#         Verbage Variations               #\n",
    "############################################\n",
    "\n",
    "def check_verb(verb):\n",
    "    # Parse the verb phrase using spaCy\n",
    "    doc = nlp(verb)\n",
    "\n",
    "    # If there is only one VERB and it is past tense (excluding some verbs), then add was before and by after. \n",
    "    if len(doc) == 1 and doc[0].tag_ in [\"VBD\", \"VBN\"] and not doc[0].text in [\"did\", \"was\"] :\n",
    "        return f\"was {doc[0].text} by\"\n",
    "\n",
    "    # Identify the positions of the auxiliary verb (AUX) and the verbs (VERBs)\n",
    "    new_phrase = []\n",
    "    prev_token = None\n",
    "    \n",
    "    # Iterate through tokens in the parsed document\n",
    "    for i, token in enumerate(doc):\n",
    "        # Add the current token to the new phrase list\n",
    "        new_phrase.append(token.text)\n",
    "        \n",
    "        # Check if the previous token is AUX and the current token is VERB\n",
    "        # and there is another VERB after that\n",
    "        if prev_token and prev_token.pos_ == \"AUX\" and token.pos_ == \"VERB\":\n",
    "            # If the next token is also a VERB, add \"to\"\n",
    "            if i + 1 < len(doc) and doc[i + 1].pos_ == \"VERB\":\n",
    "                new_phrase.append(\"to\")\n",
    "        \n",
    "        # Update the previous token to the current token\n",
    "        prev_token = token\n",
    "    \n",
    "    # Join the modified tokens into a single string\n",
    "    return \" \".join(new_phrase)\n",
    "\n",
    "def subject_verb(subject, verb):\n",
    "    # Parse the subject with spaCy\n",
    "    doc = nlp(subject)\n",
    "    \n",
    "    # Find NERs in the document\n",
    "    ner_entities = [ent for ent in doc.ents if ent.label_ in ['GPE', 'ORG', 'MISC', 'WORK_OF_ART', 'PERSON']]\n",
    "\n",
    "    # Check if a PERSON entity is present in the subject and verb phrase\n",
    "    has_person = any(ent.label_ == \"PERSON\" for ent in doc.ents)\n",
    "    \n",
    "    # Ensure there are exactly two NERs\n",
    "    if len(ner_entities) == 2:\n",
    "        # Get the text of the two NERs\n",
    "        ner_1 = ner_entities[0].text\n",
    "        ner_2 = ner_entities[1].text\n",
    "        \n",
    "        # Switch their positions and insert the verb between them\n",
    "        #result = f\"{ner_2} {verb} {ner_1}\"\n",
    "        result = f\"{ner_1} {verb} {ner_2}\"\n",
    "    else:\n",
    "        # If there are not exactly two NERs, insert the verb after the original subject\n",
    "        result = f\"{subject} {verb}\"\n",
    "        \n",
    "    return result, has_person\n",
    "\n",
    "############################################\n",
    "#         Process the Question             #\n",
    "############################################\n",
    "\n",
    "def process_question(question):\n",
    "    question_type, topic, verb, subject, question_eval = extract_question_main_elements(question)\n",
    "    if not question_type:\n",
    "        return question_eval\n",
    "    \n",
    "    summary, wiki_text, page_count = fetch_wikipedia_content(subject) # changed from topic\n",
    "    if not wiki_text:\n",
    "        return f\"I am sorry, I couldn't find relevant information about {topic}.\"\n",
    "    \n",
    "    # Use the full summary as the extracted answer.\n",
    "    answer = summary\n",
    "    response = generate_response(question, topic, verb, subject, answer, question_type, summary, wiki_text)\n",
    "\n",
    "    log(question, subject, wiki_text, response)\n",
    "    \n",
    "    return response\n",
    "\n",
    "############################################\n",
    "#         Response Generation              #\n",
    "############################################\n",
    "\n",
    "def generate_response(question, topic, verb, subject, answer, question_type, summary, wiki_text):\n",
    "    if not answer:\n",
    "        return \"I am sorry, I don't know the answer.\"\n",
    "\n",
    "    # check and adjust verb grammar\n",
    "    verb = check_verb(verb)\n",
    "\n",
    "    # merge subject and verb, and check if subject contains PERSON\n",
    "    sub_verb, has_person = subject_verb(subject, verb)\n",
    "\n",
    "    # Capitalize the first letter of the answer\n",
    "    sub_verb = sub_verb[0].upper() + sub_verb[1:] if sub_verb else sub_verb\n",
    "\n",
    "    # Extract elements to be used for each type of Wh- question\n",
    "    location = extract_location(wiki_text, topic)\n",
    "    date = extract_date(wiki_text, topic, question)\n",
    "    individual = extract_individual(wiki_text, topic)\n",
    "    \n",
    "    if question_type == \"Where\":\n",
    "        if location:\n",
    "            return f\"{sub_verb} in {location}.\"\n",
    "    elif question_type == \"When\":\n",
    "        if date:\n",
    "            return f\"{sub_verb} on {date}.\" \n",
    "    # Who question that does not contain a PERSON's name\n",
    "    elif question_type == \"Who\" and individual and not has_person:\n",
    "        return f\"{sub_verb} {individual}.\"\n",
    "    else:\n",
    "        # Else returns the first sentence of the summary. for What question or Who question that contains a PERSON's name\n",
    "        doc = nlp(summary)\n",
    "        first_sentence = list(doc.sents)[0].text.strip()\n",
    "\n",
    "        # Remove any content inside parentheses\n",
    "        first_sentence = re.sub(r'\\([^)]*\\)', '', first_sentence)\n",
    "        # Remove extra spaces that might have been introduced\n",
    "        first_sentence = re.sub(r'\\s+', ' ', first_sentence)\n",
    "        # Capitalize the first letter without lowercasing the rest\n",
    "        first_sentence = first_sentence[0].upper() + first_sentence[1:]\n",
    "        \n",
    "        return first_sentence"
   ]
  },
  {
   "cell_type": "code",
   "execution_count": 5,
   "id": "82f848db-3884-4353-a130-f701de96ab1d",
   "metadata": {
    "scrolled": true
   },
   "outputs": [
    {
     "name": "stdout",
     "output_type": "stream",
     "text": [
      "*** This is a QA system. It will try to answer Who, What, When, and Where questions. ***\n",
      "Enter 'exit' to leave the program.\n"
     ]
    },
    {
     "name": "stdin",
     "output_type": "stream",
     "text": [
      "=?>  What is Uranium?\n"
     ]
    },
    {
     "name": "stdout",
     "output_type": "stream",
     "text": [
      "Page found: Uranium\n",
      "=> Uranium is a chemical element with the symbol U and atomic number 92.\n"
     ]
    },
    {
     "name": "stdin",
     "output_type": "stream",
     "text": [
      "=?>  What is the Elephant's Foot?\n"
     ]
    },
    {
     "name": "stdout",
     "output_type": "stream",
     "text": [
      "Page found: Elephant's Foot (Chernobyl)\n",
      "=> The Elephant's Foot is the nickname given to the large mass of corium beneath Reactor 4 of the Chernobyl Nuclear Power Plant, near Pripyat, Ukraine.\n"
     ]
    },
    {
     "name": "stdin",
     "output_type": "stream",
     "text": [
      "=?>  Where was the Eiffel Tower built?\n"
     ]
    },
    {
     "name": "stdout",
     "output_type": "stream",
     "text": [
      "Page found: Eiffel Tower\n",
      "=> The Eiffel Tower was built in Paris.\n"
     ]
    },
    {
     "name": "stdin",
     "output_type": "stream",
     "text": [
      "=?>  Where is the Charles Bridge located?\n"
     ]
    },
    {
     "name": "stdout",
     "output_type": "stream",
     "text": [
      "Page found: Charles Bridge\n",
      "=> The Charles Bridge is located in Prague.\n"
     ]
    },
    {
     "name": "stdin",
     "output_type": "stream",
     "text": [
      "=?>  When was the Mona Lisa painted?\n"
     ]
    },
    {
     "name": "stdout",
     "output_type": "stream",
     "text": [
      "Page found: Mona Lisa\n",
      "=> The Mona Lisa was painted on 1503.\n"
     ]
    },
    {
     "name": "stdin",
     "output_type": "stream",
     "text": [
      "=?>  When was the Battle of Kursk?\n"
     ]
    },
    {
     "name": "stdout",
     "output_type": "stream",
     "text": [
      "Page found: Battle of Kursk\n",
      "=> The Battle Kursk was on 1943.\n"
     ]
    },
    {
     "name": "stdin",
     "output_type": "stream",
     "text": [
      "=?>  When was Neptune discovered?\n"
     ]
    },
    {
     "name": "stdout",
     "output_type": "stream",
     "text": [
      "Page found: Neptune\n",
      "=> Neptune was discovered on 23 September 1846.\n"
     ]
    },
    {
     "name": "stdin",
     "output_type": "stream",
     "text": [
      "=?>  Who painted the Mona Lisa?\n"
     ]
    },
    {
     "name": "stdout",
     "output_type": "stream",
     "text": [
      "Page found: Mona Lisa\n",
      "=> The Mona Lisa was painted by Leonardo da Vinci.\n"
     ]
    },
    {
     "name": "stdin",
     "output_type": "stream",
     "text": [
      "=?>  Who is the Nvidia CEO?\n"
     ]
    },
    {
     "name": "stdout",
     "output_type": "stream",
     "text": [
      "Page found: Nvidia GTC\n",
      "=> The Nvidia CEO is Jensen Huang.\n"
     ]
    },
    {
     "name": "stdin",
     "output_type": "stream",
     "text": [
      "=?>  Who directed Fullmetal Jacket?\n"
     ]
    },
    {
     "name": "stdout",
     "output_type": "stream",
     "text": [
      "Page found: Full Metal Jacket\n",
      "=> Fullmetal Jacket was directed by Stanley Kubrick.\n"
     ]
    },
    {
     "name": "stdin",
     "output_type": "stream",
     "text": [
      "=?>  What is the largest Planet in the Solar System?\n"
     ]
    },
    {
     "name": "stdout",
     "output_type": "stream",
     "text": [
      "Page found: List of gravitationally rounded objects of the Solar System\n",
      "=> This is a list of most likely gravitationally rounded objects of the Solar System, which are objects that have a rounded, ellipsoidal shape due to their own gravity .\n"
     ]
    },
    {
     "name": "stdin",
     "output_type": "stream",
     "text": [
      "=?>  What is the currency used in Japan?\n"
     ]
    },
    {
     "name": "stdout",
     "output_type": "stream",
     "text": [
      "Page found: Japanese currency\n",
      "=> Japanese currency has a history covering the period from the 8th century CE to the present.\n"
     ]
    },
    {
     "name": "stdin",
     "output_type": "stream",
     "text": [
      "=?>  What is the largest ocean on Earth?\n"
     ]
    },
    {
     "name": "stdout",
     "output_type": "stream",
     "text": [
      "Page found: Ocean\n",
      "=> The ocean is the body of salt water that covers approximately 70.8% of Earth.\n"
     ]
    },
    {
     "name": "stdin",
     "output_type": "stream",
     "text": [
      "=?>  Where is the Sahara Desert located?\n"
     ]
    },
    {
     "name": "stdout",
     "output_type": "stream",
     "text": [
      "Page found: Sahara\n",
      "=> The Sahara Desert is located in Sahara.\n"
     ]
    },
    {
     "name": "stdin",
     "output_type": "stream",
     "text": [
      "=?>  Where is the tallest Mountain in the world?\n"
     ]
    },
    {
     "name": "stdout",
     "output_type": "stream",
     "text": [
      "Page found: List of highest mountains on Earth\n",
      "=> The tallest Mountain the world is in Earth.\n"
     ]
    },
    {
     "name": "stdin",
     "output_type": "stream",
     "text": [
      "=?>  Where is the oldest University in the world?\n"
     ]
    },
    {
     "name": "stdout",
     "output_type": "stream",
     "text": [
      "Page found: List of oldest universities in continuous operation\n",
      "=> The oldest University the world is in Europe.\n"
     ]
    },
    {
     "name": "stdin",
     "output_type": "stream",
     "text": [
      "=?>  When was the Internet invented?\n"
     ]
    },
    {
     "name": "stdout",
     "output_type": "stream",
     "text": [
      "Page found: Internet\n",
      "=> The Internet was invented on 2006.\n"
     ]
    },
    {
     "name": "stdin",
     "output_type": "stream",
     "text": [
      "=?>  When did the Berlin Wall fall?\n"
     ]
    },
    {
     "name": "stdout",
     "output_type": "stream",
     "text": [
      "Page found: Berlin Wall\n",
      "=> The Berlin Wall did fall on 22 December 1989.\n"
     ]
    },
    {
     "name": "stdin",
     "output_type": "stream",
     "text": [
      "=?>  Who discovered Pluto?\n"
     ]
    },
    {
     "name": "stdout",
     "output_type": "stream",
     "text": [
      "Page found: Pluto\n",
      "=> Pluto was discovered by Eris.\n"
     ]
    },
    {
     "name": "stdin",
     "output_type": "stream",
     "text": [
      "=?>  Who invented the Airplane?\n"
     ]
    },
    {
     "name": "stdout",
     "output_type": "stream",
     "text": [
      "Page found: Airplane!\n",
      "=> The Airplane was invented by Jim Abrahams.\n"
     ]
    },
    {
     "name": "stdin",
     "output_type": "stream",
     "text": [
      "=?>  What is Plutonium?\n"
     ]
    },
    {
     "name": "stdout",
     "output_type": "stream",
     "text": [
      "Page found: Plutonium\n",
      "=> Plutonium is a chemical element; it has symbol Pu and atomic number 94.\n"
     ]
    },
    {
     "name": "stdin",
     "output_type": "stream",
     "text": [
      "=?>  What is String Theory?\n"
     ]
    },
    {
     "name": "stdout",
     "output_type": "stream",
     "text": [
      "Page found: String theory\n",
      "=> In physics, string theory is a theoretical framework in which the point-like particles of particle physics are replaced by one-dimensional objects called strings.\n"
     ]
    },
    {
     "name": "stdin",
     "output_type": "stream",
     "text": [
      "=?>  What is a Regolith?\n"
     ]
    },
    {
     "name": "stdout",
     "output_type": "stream",
     "text": [
      "Page found: Regolith\n",
      "=> Regolith is a blanket of unconsolidated, loose, heterogeneous superficial deposits covering solid rock.\n"
     ]
    },
    {
     "name": "stdin",
     "output_type": "stream",
     "text": [
      "=?>  What is a Hummock?\n"
     ]
    },
    {
     "name": "stdout",
     "output_type": "stream",
     "text": [
      "Page found: Hummock\n",
      "=> In geology, a hummock is a small knoll or mound above ground.\n"
     ]
    },
    {
     "name": "stdin",
     "output_type": "stream",
     "text": [
      "=?>  What is a Bicycle?\n"
     ]
    },
    {
     "name": "stdout",
     "output_type": "stream",
     "text": [
      "Page found: Bicycle\n",
      "=> A bicycle, also called a pedal cycle, bike, push-bike or cycle, is a human-powered or motor-assisted, pedal-driven, single-track vehicle, with two wheels attached to a frame, one behind the other.\n"
     ]
    },
    {
     "name": "stdin",
     "output_type": "stream",
     "text": [
      "=?>  Where is the Red Forest located?\n"
     ]
    },
    {
     "name": "stdout",
     "output_type": "stream",
     "text": [
      "Page found: Red Forest\n",
      "=> The Red Forest is located in the Exclusion Zone.\n"
     ]
    },
    {
     "name": "stdin",
     "output_type": "stream",
     "text": [
      "=?>  Where was the Sistine Chapel painted?\n"
     ]
    },
    {
     "name": "stdout",
     "output_type": "stream",
     "text": [
      "Page found: Sistine Chapel\n",
      "=> The Sistine Chapel was painted in the Apostolic Palace.\n"
     ]
    },
    {
     "name": "stdin",
     "output_type": "stream",
     "text": [
      "=?>  Where is the Apostolic Palace?\n"
     ]
    },
    {
     "name": "stdout",
     "output_type": "stream",
     "text": [
      "Page found: Apostolic Palace\n",
      "=> The Apostolic Palace is in Vatican City.\n"
     ]
    },
    {
     "name": "stdin",
     "output_type": "stream",
     "text": [
      "=?>  Where is the Colloseum?\n"
     ]
    },
    {
     "name": "stdout",
     "output_type": "stream",
     "text": [
      "Page found: Colosseum\n",
      "=> The Colloseum is in Rome.\n"
     ]
    },
    {
     "name": "stdin",
     "output_type": "stream",
     "text": [
      "=?>  Where was the Taj Mahal built?\n"
     ]
    },
    {
     "name": "stdout",
     "output_type": "stream",
     "text": [
      "Page found: Taj Mahal\n",
      "=> The Taj Mahal was built in Agra.\n"
     ]
    },
    {
     "name": "stdin",
     "output_type": "stream",
     "text": [
      "=?>  When was the Berlin Wall built?\n"
     ]
    },
    {
     "name": "stdout",
     "output_type": "stream",
     "text": [
      "Page found: Berlin Wall\n",
      "=> The Berlin Wall was built on 1961.\n"
     ]
    },
    {
     "name": "stdin",
     "output_type": "stream",
     "text": [
      "=?>  When did the French Revolution start?\n"
     ]
    },
    {
     "name": "stdout",
     "output_type": "stream",
     "text": [
      "Page found: French Revolution\n",
      "=> The French Revolution did start on 1789.\n"
     ]
    },
    {
     "name": "stdin",
     "output_type": "stream",
     "text": [
      "=?>  When was the Battle of Hastings?\n"
     ]
    },
    {
     "name": "stdout",
     "output_type": "stream",
     "text": [
      "Page found: Battle of Hastings\n",
      "=> The Battle Hastings was on 14 October 1066.\n"
     ]
    },
    {
     "name": "stdin",
     "output_type": "stream",
     "text": [
      "=?>  When was the Wheel created?\n"
     ]
    },
    {
     "name": "stdout",
     "output_type": "stream",
     "text": [
      "Page found: Wheel\n",
      "=> None\n"
     ]
    },
    {
     "name": "stdin",
     "output_type": "stream",
     "text": [
      "=?>  When did the Industrial Revolution start?\n"
     ]
    },
    {
     "name": "stdout",
     "output_type": "stream",
     "text": [
      "Page found: Industrial Revolution\n",
      "=> The Industrial Revolution did start on 1760.\n"
     ]
    },
    {
     "name": "stdin",
     "output_type": "stream",
     "text": [
      "=?>  Who was the first President of the United States?\n"
     ]
    },
    {
     "name": "stdout",
     "output_type": "stream",
     "text": [
      "Page found: President of the United States\n",
      "=> The first President the United States was George Washington.\n"
     ]
    },
    {
     "name": "stdin",
     "output_type": "stream",
     "text": [
      "=?>  Who was Thomas Edison?\n"
     ]
    },
    {
     "name": "stdout",
     "output_type": "stream",
     "text": [
      "Page found: Thomas Edison\n",
      "=> Thomas Alva Edison was an American inventor and businessman.\n"
     ]
    },
    {
     "name": "stdin",
     "output_type": "stream",
     "text": [
      "=?>  Who built the Eiffel Tower?\n"
     ]
    },
    {
     "name": "stdout",
     "output_type": "stream",
     "text": [
      "Page found: Eiffel Tower\n",
      "=> The Eiffel Tower was built by Gustave Eiffel.\n"
     ]
    },
    {
     "name": "stdin",
     "output_type": "stream",
     "text": [
      "=?>  Who was Jiang Zamin?\n"
     ]
    },
    {
     "name": "stdout",
     "output_type": "stream",
     "text": [
      "Page found: Jiang Zemin\n",
      "=> Jiang Zemin was a Chinese politician who served as general secretary of the Chinese Communist Party from 1989 to 2002, as chairman of the Central Military Commission from 1989 to 2004, and as president of China from 1993 to 2003.\n"
     ]
    },
    {
     "name": "stdin",
     "output_type": "stream",
     "text": [
      "=?>  Who invented the Toilet Paper?\n"
     ]
    },
    {
     "name": "stdout",
     "output_type": "stream",
     "text": [
      "Page found: Toilet paper\n",
      "=> The Toilet Paper was invented by China in the 6th century AD, with specifically manufactured toilet paper being mass.\n"
     ]
    },
    {
     "name": "stdin",
     "output_type": "stream",
     "text": [
      "=?>  exit\n"
     ]
    },
    {
     "name": "stdout",
     "output_type": "stream",
     "text": [
      "Thank you! Goodbye.\n"
     ]
    }
   ],
   "source": [
    "############################################\n",
    "#         Question-Answer                  #\n",
    "############################################\n",
    "\n",
    "if __name__ == \"__main__\":\n",
    "    print(\"*** This is a QA system. It will try to answer Who, What, When, and Where questions. ***\")\n",
    "    print(\"Enter 'exit' to leave the program.\")\n",
    "    while True:\n",
    "        user_question = input(\"=?> \").strip()\n",
    "        if user_question.lower() == \"exit\":\n",
    "            print(\"Thank you! Goodbye.\")\n",
    "            break\n",
    "        print(\"=>\", process_question(user_question))"
   ]
  },
  {
   "cell_type": "code",
   "execution_count": 7,
   "id": "9c53f1a3-3679-468a-95eb-cddbda37c855",
   "metadata": {},
   "outputs": [
    {
     "data": {
      "text/plain": [
       "[{'Question': 'What is Uranium?',\n",
       "  'Wikipedia Search': 'Uranium',\n",
       "  'Raw Wikipedia Results': 'Uranium is a chemical element with the symbol U and atomic number 92. It is a silvery-grey metal in the actinide series of the periodic table. A uranium atom has 92 protons and 92 electrons, of which 6 are valence electrons. Uranium radioactively decays, usually by emitting an alpha particle. The half-life of this decay varies between 159,200 and 4.5 billion years for different isotopes, making them useful for dating the age of the Earth. The most common isotopes in natural uranium are uranium-238 (which has 146 neutrons and accounts for over 99% of uranium on Earth) and uranium-235 (which has 143 neutrons). Uranium has the highest atomic weight of the primordially occurring elements. Its density is about 70% higher than that of lead and slightly lower than that of gold or tungsten. It occurs naturally in low concentrations of a few parts per million in soil, rock and water, and is commercially extracted from uranium-bearing minerals such as uraninite.\\nMany contemporary uses of uranium exploit its unique nuclear properties. Uranium is used in nuclear power plants and nuclear weapons because it is the only naturally occurring element with a fissile isotope – uranium-235 – present in non-trace amounts. However, because of the low abundance of uranium-235 in natural uranium (which is overwhelmingly uranium-238), uranium needs to undergo enrichment so that enough uranium-235 is present. Uranium-238 is fissionable by fast neutrons and is fertile, meaning it can be transmuted to fissile plutonium-239 in a nuclear reactor. Another fissile isotope, uranium-233, can be produced from natural thorium and is studied for future industrial use in nuclear technology. Uranium-238 has a small probability for spontaneous fission or even induced fission with fast neutrons; uranium-235, and to a lesser degree uranium-233, have a much higher fission cross-section for slow neutrons. In sufficient concentration, these isotopes maintain a sustained nuclear chain reaction. This generates the heat in nuclear power reactors and produces the fissile material for nuclear weapons.  The primary civilian use for uranium harnesses the heat energy to produce electricity. Depleted uranium (238U) is used in kinetic energy penetrators and armor plating.\\nThe 1789 discovery of uranium in the mineral pitchblende is credited to Martin Heinrich Klaproth, who named the new element after the recently discovered planet Uranus. Eugène-Melchior Péligot was the first person to isolate the metal, and its radioactive properties were discovered in 1896 by Henri Becquerel. Research by Otto Hahn, Lise Meitner, Enrico Fermi and others, such as J. Robert Oppenheimer starting in 1934 led to its use as a fuel in the nuclear power industry and in Little Boy, the first nuclear weapon used in war. An ensuing arms race during the Cold War between the United States and the Soviet Union produced tens of thousands of nuclear weapons that used uranium metal and uranium-derived plutonium-239. Dismantling of these weapons and related nuclear facilities is carried out within various nuclear disarmament programs and costs billions of dollars. Weapon-grade uranium obtained from nuclear weapons is diluted with uranium-238 and reused as fuel for nuclear reactors. Spent nuclear fuel forms radioactive waste, which mostly consists of uranium-238 and poses a significant health threat and environmental impact.',\n",
       "  'Answer': 'Uranium is a chemical element with the symbol U and atomic number 92.'},\n",
       " {'Question': \"What is the Elephant's Foot?\",\n",
       "  'Wikipedia Search': 'the Elephant Foot',\n",
       "  'Raw Wikipedia Results': \"The Elephant's Foot is the nickname given to the large mass of corium beneath Reactor 4 of the Chernobyl Nuclear Power Plant, near Pripyat, Ukraine. The mass formed during the Chernobyl disaster of 26 April 1986 from such materials as molten concrete, sand, steel, uranium, and zirconium. It is named for its wrinkled appearance and large size, evocative of the foot of an elephant.\\nDiscovered in December 1986, the “foot” is located in a maintenance corridor below the remains of Reactor No. 4, though the often-photographed formation is only a small portion of several larger corium masses in the area. It has a popular reputation as one of the most radioactive objects in history, though the danger has decreased over time due to the decay of its radioactive components.\",\n",
       "  'Answer': \"The Elephant's Foot is the nickname given to the large mass of corium beneath Reactor 4 of the Chernobyl Nuclear Power Plant, near Pripyat, Ukraine.\"},\n",
       " {'Question': 'Where was the Eiffel Tower built?',\n",
       "  'Wikipedia Search': 'the Eiffel Tower',\n",
       "  'Raw Wikipedia Results': 'The Eiffel Tower (  EYE-fəl; French: Tour Eiffel [tuʁ ɛfɛl] ) is a wrought-iron lattice tower on the Champ de Mars in Paris, France. It is named after the engineer Gustave Eiffel, whose company designed and built the tower from 1887 to 1889.\\nLocally nicknamed \"La dame de fer\" (French for \"Iron Lady\"), it was constructed as the centrepiece of the 1889 World\\'s Fair, and to crown the centennial anniversary of the French Revolution. Although initially criticised by some of France\\'s leading artists and intellectuals for its design, it has since become a global cultural icon of France and one of the most recognisable structures in the world. The tower received 5,889,000 visitors in 2022. The Eiffel Tower is the most visited monument with an entrance fee in the world: 6.91 million people ascended it in 2015. It was designated a monument historique in 1964, and was named part of a UNESCO World Heritage Site (\"Paris, Banks of the Seine\") in 1991.\\nThe tower is 330 metres (1,083 ft) tall, about the same height as an 81-storey building, and the tallest structure in Paris. Its base is square, measuring 125 metres (410 ft) on each side. During its construction, the Eiffel Tower surpassed the Washington Monument to become the tallest human-made structure in the world, a title it held for 41 years until the Chrysler Building in New York City was finished in 1930. It was the first structure in the world to surpass both the 200-metre and 300-metre mark in height. Due to the addition of a broadcasting aerial at the top of the tower in 1957, it is now taller than the Chrysler Building by 5.2 metres (17 ft). Excluding transmitters, the Eiffel Tower is the second tallest free-standing structure in France after the Millau Viaduct.\\nThe tower has three levels for visitors, with restaurants on the first and second levels. The top level\\'s upper platform is 276 m (906 ft) above the ground—the highest observation deck accessible to the public in the European Union. Tickets can be purchased to ascend by stairs or lift to the first and second levels. The climb from ground level to the first level is over 300 steps, as is the climb from the first level to the second, making the entire ascent a 600-step climb. Although there is a staircase to the top level, it is usually accessible only by lift. On this top, third level is a private apartment built for Gustave Eiffel\\'s personal use. He decorated it with furniture by Jean Lachaise and invited friends such as Thomas Edison.',\n",
       "  'Answer': 'The Eiffel Tower was built in Paris.'},\n",
       " {'Question': 'Where is the Charles Bridge located?',\n",
       "  'Wikipedia Search': 'the Charles Bridge',\n",
       "  'Raw Wikipedia Results': 'Charles Bridge (Czech: Karlův most [ˈkarluːf ˈmost] ) is a medieval stone arch bridge that crosses the Vltava river in Prague, Czech Republic. Its construction started in 1357 under the auspices of King Charles IV, and finished in the early 15th century. The bridge replaced the old Judith Bridge built 1158–1172 that had been severely damaged by a flood in 1342. This new bridge was originally called Stone Bridge (Kamenný most) or Prague Bridge (Pražský most), but has been referred to as \"Charles Bridge\" since 1870.\\nAs the only means of crossing the river Vltava until 1841, Charles Bridge was the most important connection between Prague Castle and the city\\'s Old Town and adjacent areas. This land connection made Prague important as a trade route between Eastern and Western Europe.\\nThe bridge is 516 metres (1,693 ft) long and nearly 10 metres (33 ft) wide. Following the example of the Stone Bridge in Regensburg, it was built as a bow bridge with 16 arches shielded by ice guards. It is protected by three bridge towers, two on the Lesser Quarter side (including the Malá Strana Bridge Tower) and one on the Old Town side, the Old Town Bridge Tower. The bridge is decorated by a continuous alley of 30 statues and statuaries, most of them baroque-style, originally erected around 1700, but now all have been replaced by replicas.\\nThe bridge is currently undergoing a twenty-year process of structural inspections, restoration, and repairs. The process started in late 2019, and is expected to cost 45–60 million CZK (US$1.9–2.6 million).',\n",
       "  'Answer': 'The Charles Bridge is located in Prague.'},\n",
       " {'Question': 'When was the Mona Lisa painted?',\n",
       "  'Wikipedia Search': 'the Mona Lisa',\n",
       "  'Raw Wikipedia Results': 'The Mona Lisa is a half-length portrait painting by the Italian artist Leonardo da Vinci. Considered an archetypal masterpiece of the Italian Renaissance, it has been described as \"the best known, the most visited, the most written about, the most sung about, [and] the most parodied work of art in the world.\" The painting\\'s novel qualities include the subject\\'s enigmatic expression, monumentality of the composition, the subtle modelling of forms, and the atmospheric illusionism.\\nThe painting has been traditionally considered to depict the Italian noblewoman Lisa del Giocondo. It is painted in oil on a white poplar panel. Leonardo never gave the painting to the Giocondo family. It was believed to have been painted between 1503 and 1506; however, Leonardo may have continued working on it as late as 1517. King Francis I of France acquired the Mona Lisa after Leonardo\\'s death in 1519, and it is now the property of the French Republic. It has normally been on display at the Louvre in Paris since 1797.\\nThe painting\\'s global fame and popularity partly stem from its 1911 theft by Vincenzo Peruggia, who attributed his actions to Italian patriotism—a belief it should belong to Italy. The theft and subsequent recovery in 1914 generated unprecedented publicity for an art theft, and led to the publication of many cultural depictions such as the 1915 opera Mona Lisa, two early 1930s films (The Theft of the Mona Lisa and Arsène Lupin), and the song \"Mona Lisa\" recorded by Nat King Cole—one of the most successful songs of the 1950s.\\nThe Mona Lisa is one of the most valuable paintings in the world. It holds the Guinness World Record for the highest known painting insurance valuation in history at US$100 million in 1962, equivalent to $1 billion as of 2023.',\n",
       "  'Answer': 'The Mona Lisa was painted on 1503.'},\n",
       " {'Question': 'When was the Battle of Kursk?',\n",
       "  'Wikipedia Search': 'the Battle Kursk',\n",
       "  'Raw Wikipedia Results': 'The Battle of Kursk was a major World War II Eastern Front battle between the forces of Nazi Germany and the Soviet Union near Kursk in southwestern Russia during the summer of 1943, resulting in a Soviet victory. The Battle of Kursk is the single largest battle in the history of warfare. It ranks only behind the Battle of Stalingrad several months earlier as the most often-cited turning point in the European theatre of the war. It was one of the costliest battles of the Second World War, the single deadliest armoured battle in history, and the opening day of the battle, 5 July, was the single costliest day in the history of aerial warfare in terms of aircraft shot down. The battle was further marked by fierce house-to-house fighting and hand-to-hand combat.\\nThe battle began with the launch of the German offensive Operation Citadel (German: Unternehmen Zitadelle), on 5 July, which had the objective of pinching off the Kursk salient with attacks on the base of the salient from north and south simultaneously. After the German offensive stalled on the northern side of the salient, on 12 July, the Soviets commenced their Kursk Strategic Offensive Operation with the launch of Operation Kutuzov (Russian: Кутузов) against the rear of the German forces on the same side. On the southern side, the Soviets also launched powerful counterattacks the same day, one of which led to a large armoured clash, the Battle of Prokhorovka. On 3 August, the Soviets began the second phase of the Kursk Strategic Offensive Operation with the launch of the Belgorod–Kharkov offensive operation (Operation Polkovodets Rumyantsev, Полководец Румянцев) against the German forces on the southern side of the salient.\\nThe Germans hoped to weaken the Soviet offensive potential for the summer of 1943, by cutting off and enveloping the forces that they anticipated would be in the Kursk salient. Hitler believed that a victory here would reassert German strength and improve his prestige with his allies, who he thought were considering withdrawing from the war. It was also hoped that large numbers of Soviet prisoners would be captured to be used as slave labour in the German armaments industry. The Soviet government had foreknowledge of the German plans from the Lucy spy ring. Aware months in advance that the attack would fall on the neck of the Kursk salient, the Soviets built a defence in depth designed to wear down the German armoured spearhead. The Germans delayed the offensive while they tried to build up their forces and waited for new weapons, giving the Red Army time to construct a series of deep defensive belts and establish a large reserve force for counter-offensives, with one German officer describing Kursk as \"another Verdun\".\\nThe battle was the final strategic offensive that the Germans were able to launch on the Eastern Front. Because the Allied invasion of Sicily began during the battle, Adolf Hitler was forced to divert troops training in France to meet the Allied threat in the Mediterranean, rather than using them as a strategic reserve for the Eastern Front. As a result, Hitler cancelled the offensive at Kursk after only a week, in part to divert forces to Italy. Germany\\'s heavy losses of men and tanks ensured that the victorious Soviet Red Army held a strategic initiative for the rest of the war. The Battle of Kursk was the first time in the Second World War that a German strategic offensive was halted before it could break through enemy defences and penetrate to its strategic depths. Though the Red Army had succeeded in winter offensives previously, their counter-offensives after the German attack at Kursk were their first successful summer offensives of the war. The battle has been called the \"last gasp of Nazi aggression\".',\n",
       "  'Answer': 'The Battle Kursk was on 1943.'},\n",
       " {'Question': 'When was Neptune discovered?',\n",
       "  'Wikipedia Search': 'Neptune',\n",
       "  'Raw Wikipedia Results': 'Neptune is the eighth and farthest known planet from the Sun. It is the fourth-largest planet in the Solar System by diameter, the third-most-massive planet, and the densest giant planet. It is 17 times the mass of Earth. Compared to Uranus, its neighbouring ice giant, Neptune is slightly more massive, but denser and smaller. Being composed primarily of gases and liquids, it has no well-defined solid surface, and orbits the Sun once every 164.8 years at an orbital distance of 30.1 astronomical units (4.5 billion kilometres; 2.8 billion miles). It is named after the Roman god of the sea and has the astronomical symbol , representing Neptune\\'s trident.\\nNeptune is not visible to the unaided eye and is the only planet in the Solar System that was not initially observed by direct empirical observation. Rather, unexpected changes in the orbit of Uranus led Alexis Bouvard to hypothesise that its orbit was subject to gravitational perturbation by an unknown planet. After Bouvard\\'s death, the position of Neptune was mathematically predicted from his observations, independently, by John Couch Adams and Urbain Le Verrier. Neptune was subsequently directly observed with a telescope on 23 September 1846 by Johann Gottfried Galle within a degree of the position predicted by Le Verrier. Its largest moon, Triton, was discovered shortly thereafter, though none of the planet\\'s remaining moons were located telescopically until the 20th century.\\nThe planet\\'s distance from Earth gives it a small apparent size, and its distance from the Sun renders it very dim, making it challenging to study with Earth-based telescopes. Only the advent of the Hubble Space Telescope and of large ground-based telescopes with adaptive optics allowed for detailed observations. Neptune was visited by Voyager 2, which flew by the planet on 25 August 1989; Voyager 2 remains the only spacecraft to have visited it. Like the gas giants (Jupiter and Saturn), Neptune\\'s atmosphere is composed primarily of hydrogen and helium, along with traces of hydrocarbons and possibly nitrogen, but contains a higher proportion of ices such as water, ammonia and methane. Similar to Uranus, its interior is primarily composed of ices and rock; both planets are normally considered \"ice giants\" to distinguish them. Along with Rayleigh scattering, traces of methane in the outermost regions make Neptune appear faintly blue.\\nIn contrast to the strongly seasonal atmosphere of Uranus, which can be featureless for long periods of time, Neptune\\'s atmosphere has active and consistently visible weather patterns. At the time of the Voyager 2 flyby in 1989, the planet\\'s southern hemisphere had a Great Dark Spot comparable to the Great Red Spot on Jupiter. In 2018, a newer main dark spot and smaller dark spot were identified and studied. These weather patterns are driven by the strongest sustained winds of any planet in the Solar System, as high as 2,100 km/h (580 m/s; 1,300 mph). Because of its great distance from the Sun, Neptune\\'s outer atmosphere is one of the coldest places in the Solar System, with temperatures at its cloud tops approaching 55 K (−218 °C; −361 °F). Temperatures at the planet\\'s centre are approximately 5,400 K (5,100 °C; 9,300 °F). Neptune has a faint and fragmented ring system (labelled \"arcs\"), discovered in 1984 and confirmed by Voyager 2.',\n",
       "  'Answer': 'Neptune was discovered on 23 September 1846.'},\n",
       " {'Question': 'Who painted the Mona Lisa?',\n",
       "  'Wikipedia Search': 'the Mona Lisa',\n",
       "  'Raw Wikipedia Results': 'The Mona Lisa is a half-length portrait painting by the Italian artist Leonardo da Vinci. Considered an archetypal masterpiece of the Italian Renaissance, it has been described as \"the best known, the most visited, the most written about, the most sung about, [and] the most parodied work of art in the world.\" The painting\\'s novel qualities include the subject\\'s enigmatic expression, monumentality of the composition, the subtle modelling of forms, and the atmospheric illusionism.\\nThe painting has been traditionally considered to depict the Italian noblewoman Lisa del Giocondo. It is painted in oil on a white poplar panel. Leonardo never gave the painting to the Giocondo family. It was believed to have been painted between 1503 and 1506; however, Leonardo may have continued working on it as late as 1517. King Francis I of France acquired the Mona Lisa after Leonardo\\'s death in 1519, and it is now the property of the French Republic. It has normally been on display at the Louvre in Paris since 1797.\\nThe painting\\'s global fame and popularity partly stem from its 1911 theft by Vincenzo Peruggia, who attributed his actions to Italian patriotism—a belief it should belong to Italy. The theft and subsequent recovery in 1914 generated unprecedented publicity for an art theft, and led to the publication of many cultural depictions such as the 1915 opera Mona Lisa, two early 1930s films (The Theft of the Mona Lisa and Arsène Lupin), and the song \"Mona Lisa\" recorded by Nat King Cole—one of the most successful songs of the 1950s.\\nThe Mona Lisa is one of the most valuable paintings in the world. It holds the Guinness World Record for the highest known painting insurance valuation in history at US$100 million in 1962, equivalent to $1 billion as of 2023.',\n",
       "  'Answer': 'The Mona Lisa was painted by Leonardo da Vinci.'},\n",
       " {'Question': 'Who is the Nvidia CEO?',\n",
       "  'Wikipedia Search': 'the Nvidia CEO',\n",
       "  'Raw Wikipedia Results': 'Nvidia GTC (GPU Technology Conference) is a global artificial intelligence (AI) conference for developers that brings together developers, engineers, researchers, inventors, and IT professionals. Topics focus on AI, computer graphics, data science, machine learning and autonomous machines. Each conference begins with a keynote from Nvidia CEO and founder Jensen Huang, followed by a variety of sessions and talks with experts from around the world.\\nIt originated in 2009 in San Jose, California, with an initial focus on the potential for solving computing challenges through GPUs. In recent years, the conference focus has shifted to various applications of artificial intelligence and deep learning, including: self-driving cars, healthcare, high performance computing, professional visualization, and Nvidia Deep Learning Institute (DLI) training.',\n",
       "  'Answer': 'The Nvidia CEO is Jensen Huang.'},\n",
       " {'Question': 'Who directed Fullmetal Jacket?',\n",
       "  'Wikipedia Search': 'Fullmetal Jacket',\n",
       "  'Raw Wikipedia Results': 'Full Metal Jacket is a 1987 war film directed and produced by Stanley Kubrick from a screenplay he co-wrote with Michael Herr and Gustav Hasford. The film is based on Hasford\\'s 1979 autobiographical novel The Short-Timers. It stars Matthew Modine, R. Lee Ermey, Vincent D\\'Onofrio, Adam Baldwin, Dorian Harewood, and Arliss Howard.\\nThe storyline follows a platoon of U.S. Marines through their boot camp training at Marine Corps Recruit Depot Parris Island, South Carolina. The first half of the film focuses primarily on privates J.T. Davis and Leonard Lawrence, nicknamed \"Joker\" and \"Pyle\" respectively, who struggle under their abusive drill instructor, Gunnery Sergeant Hartman. The second half portrays the experiences of Joker and other Marines in the Vietnamese cities of Da Nang and Huế during the Tet Offensive of the Vietnam War. The film\\'s title refers to the full metal jacket bullet used by military servicemen.\\nWarner Bros. released Full Metal Jacket in the United States on June 26, 1987. It was the last of Kubrick\\'s films to be released during his lifetime. The film received critical acclaim, grossed $120 million against a budget of $16.5–30 million and was nominated for an Academy Award for Best Adapted Screenplay. The film was also nominated for two BAFTA Awards, and Ermey was nominated for a Golden Globe Award for Best Supporting Actor – Motion Picture for his performance. In 2001, the American Film Institute placed the film at number 95 in its poll titled \"AFI\\'s 100 Years...100 Thrills.\"',\n",
       "  'Answer': 'Fullmetal Jacket was directed by Stanley Kubrick.'},\n",
       " {'Question': 'What is the largest Planet in the Solar System?',\n",
       "  'Wikipedia Search': 'the largest Planet the Solar System',\n",
       "  'Raw Wikipedia Results': \"This is a list of most likely gravitationally rounded objects (GRO) of the Solar System, which are objects that have a rounded, ellipsoidal shape due to their own gravity (but are not necessarily in hydrostatic equilibrium). Apart from the Sun itself, these objects qualify as planets according to common geophysical definitions of that term. The radii of these objects range over three orders of magnitude, from planetary-mass objects like dwarf planets and some moons to the planets and the Sun. This list does not include small Solar System bodies, but it does include a sample of possible planetary-mass objects whose shapes have yet to be determined. The Sun's orbital characteristics are listed in relation to the Galactic Center, while all other objects are listed in order of their distance from the Sun.\",\n",
       "  'Answer': 'This is a list of most likely gravitationally rounded objects of the Solar System, which are objects that have a rounded, ellipsoidal shape due to their own gravity .'},\n",
       " {'Question': 'What is the currency used in Japan?',\n",
       "  'Wikipedia Search': 'the currency Japan',\n",
       "  'Raw Wikipedia Results': 'Japanese currency has a history covering the period from the 8th century CE to the present. After the traditional usage of rice as a currency medium, Japan adopted currency systems and designs from China before developing a separate system of its own.',\n",
       "  'Answer': 'Japanese currency has a history covering the period from the 8th century CE to the present.'},\n",
       " {'Question': 'What is the largest ocean on Earth?',\n",
       "  'Wikipedia Search': 'the largest ocean Earth',\n",
       "  'Raw Wikipedia Results': 'The ocean is the body of salt water that covers approximately 70.8% of Earth. The ocean is conventionally divided into large bodies of water, which are also referred to as oceans (the Pacific, Atlantic, Indian, Antarctic/Southern, and Arctic Ocean),  and are themselves mostly divided into seas, gulfs and subsequent bodies of water. The ocean contains 97% of Earth\\'s water and is the primary component of Earth\\'s hydrosphere, acting as a huge reservoir of heat for Earth\\'s energy budget, as well as for its carbon cycle and water cycle, forming the basis for climate and weather patterns worldwide. The ocean is essential to life on Earth, harbouring most of Earth\\'s animals and protist life, originating photosynthesis and therefore Earth\\'s atmospheric oxygen, still supplying half of it.\\nOcean scientists split the ocean into vertical and horizontal zones based on physical and biological conditions. Horizontally the ocean covers the oceanic crust, which it shapes. Where the ocean meets dry land it covers relatively shallow continental shelfs, which are part of Earth\\'s continental crust. Human activity is mostly coastal with high negative impacts on marine life. Vertically the pelagic zone is the open ocean\\'s water column from the surface to the ocean floor. The water column is further divided into zones based on depth and the amount of light present. The photic zone starts at the surface and is defined to be \"the depth at which light intensity is only 1% of the surface value\":\\u200a36\\u200a (approximately 200 m in the open ocean). This is the zone where photosynthesis can occur. In this process plants and microscopic algae (free-floating phytoplankton) use light, water, carbon dioxide, and nutrients to produce organic matter. As a result, the photic zone is the most biodiverse and the source of the food supply which sustains most of the ocean ecosystem. Light can only penetrate a few hundred more meters; the rest of the deeper ocean is cold and dark (these zones are called mesopelagic and aphotic zones).\\nOcean temperatures depend on the amount of solar radiation reaching the ocean surface. In the tropics, surface temperatures can rise to over 30 °C (86 °F). Near the poles where sea ice forms, the temperature in equilibrium is about −2 °C (28 °F). In all parts of the ocean, deep ocean temperatures range between −2 °C (28 °F) and 5 °C (41 °F). Constant circulation of water in the ocean creates ocean currents. Those currents are caused by forces operating on the water, such as temperature and salinity differences, atmospheric circulation (wind), and the Coriolis effect. Tides create tidal currents, while wind and waves cause surface currents. The Gulf Stream, Kuroshio Current, Agulhas Current and Antarctic Circumpolar Current are all major ocean currents. Such currents transport massive amounts of water, gases, pollutants and heat to different parts of the world, and from the surface into the deep ocean.  All this has impacts on the global climate system.\\nOcean water contains dissolved gases, including oxygen, carbon dioxide and nitrogen. An exchange of these gases occurs at the ocean\\'s surface. The solubility of these gases depends on the temperature and salinity of the water. The carbon dioxide concentration in the atmosphere is rising due to CO2 emissions, mainly from fossil fuel combustion. As the oceans absorb CO2 from the atmosphere, a higher concentration leads to ocean acidification (a drop in pH value).\\nThe ocean provides many benefits to humans such as ecosystem services, access to seafood and other marine resources, and a means of transport. The ocean is known to be the habitat of over 230,000 species, but may hold considerably more – perhaps over two million species. Yet, the ocean faces many environmental threats, such as marine pollution, overfishing, and the effects of climate change. Those effects include ocean warming, ocean acidification and sea level rise. The continental shelf and coastal waters are most affected by human activity.',\n",
       "  'Answer': 'The ocean is the body of salt water that covers approximately 70.8% of Earth.'},\n",
       " {'Question': 'Where is the Sahara Desert located?',\n",
       "  'Wikipedia Search': 'the Sahara Desert',\n",
       "  'Raw Wikipedia Results': 'The Sahara (, ) is a desert spanning across North Africa. With an area of 9,200,000 square kilometres (3,600,000 sq mi), it is the largest hot desert in the world and the third-largest desert overall, smaller only than the deserts of Antarctica and the northern Arctic.\\nThe name \"Sahara\" is derived from Arabic: صَحَارَى, romanized: ṣaḥārā /sˤaħaːraː/, a broken plural form of ṣaḥrā\\' (صَحْرَاء /sˤaħraːʔ/), meaning \"desert\".\\nThe desert covers much of North Africa, excluding the fertile region on the Mediterranean Sea coast, the Atlas Mountains of the Maghreb, and the Nile Valley in Egypt and the Sudan.\\nIt stretches from the Red Sea in the east and the Mediterranean in the north to the Atlantic Ocean in the west, where the landscape gradually changes from desert to coastal plains. To the south it is bounded by the Sahel, a belt of semi-arid tropical savanna around the Niger River valley and the Sudan region of sub-Saharan Africa. The Sahara can be divided into several regions, including the western Sahara, the central Ahaggar Mountains, the Tibesti Mountains, the Aïr Mountains, the Ténéré desert, and the Libyan Desert.\\nFor several hundred thousand years, the Sahara has alternated between desert and savanna grassland in a 20,000-year cycle caused by the precession of Earth\\'s axis (about 26,000 years) as it rotates around the Sun, which changes the location of the North African monsoon.',\n",
       "  'Answer': 'The Sahara Desert is located in Sahara.'},\n",
       " {'Question': 'Where is the tallest Mountain in the world?',\n",
       "  'Wikipedia Search': 'the tallest Mountain the world',\n",
       "  'Raw Wikipedia Results': 'There are at least 108 mountains on Earth with elevations of 7,200 m (23,600 ft; 4.5 mi) or greater above sea level. Of these, 14 are more than 8,000 m (26,000 ft; 5.0 mi). The vast majority of these mountains are part of either the Himalayas or the Karakoram mountain ranges located on the edge of the Indian Plate and Eurasian Plate in China, India, Nepal, and Pakistan.',\n",
       "  'Answer': 'The tallest Mountain the world is in Earth.'},\n",
       " {'Question': 'Where is the oldest University in the world?',\n",
       "  'Wikipedia Search': 'the oldest University the world',\n",
       "  'Raw Wikipedia Results': 'This is a list of the oldest existing universities in continuous operation in the world.\\nInclusion in this list is determined by the date at which the educational institute first met the traditional definition of a university used by academic historians although it may have existed as a different kind of institution before that time. This definition limits the term \"university\" to institutions with distinctive structural and legal features that developed in Europe, and which make the university form different from other institutions of higher learning in the pre-modern world, even though these may sometimes now be referred to popularly as universities.\\nTo be included in the list, the university must have been founded prior to 1500 in Europe or be the oldest university derived from the medieval European model in a country or region. It must also still be in operation, with institutional continuity retained throughout its history. So some early universities, including the University of Paris, founded around the beginning of the 13th century but abolished by the French Revolution in 1793, are excluded. Some institutions reemerge, but with new foundations, such as the modern University of Paris, which came into existence in 1896 after the Louis Liard law disbanded Napoleon\\'s University of France system.\\nThe word \"university\" is derived from the Latin universitas magistrorum et scholarium, which approximately means \"community of teachers and scholars.\" The University of Bologna in Bologna, Italy, where teaching began around 1088 and which was organised into a university in the late 12th century, is the world\\'s oldest university in continuous operation, and the first university in the sense of a higher-learning and degree-awarding institute. The origin of many medieval universities can be traced back to the Catholic cathedral schools or monastic schools, which appeared as early as the 6th century and were run for hundreds of years prior to their formal establishment as universities in the high medieval period.\\nAncient higher-learning institutions, such as those of ancient Greece, Africa, ancient Persia, ancient Rome, Byzantium, ancient China, ancient India and the Islamic world, are not included in this list owing to their cultural, historical, structural and legal differences from the medieval European university from which the modern university evolved. These include the University of al-Qarawiyyin, University of Ez-Zitouna and Al-Azhar University, which were founded as mosques in 859, 698 or 734, and 972 respectively. These developed associated madrasas; the dates when organised teaching began are uncertain, but by 1129 for al-Qarawiyyin in the 13th century for Ez-Zitouna, and Al-Azhar. They became universities in 1963, 1956 and 1961 respectively.',\n",
       "  'Answer': 'The oldest University the world is in Europe.'},\n",
       " {'Question': 'When was the Internet invented?',\n",
       "  'Wikipedia Search': 'the Internet',\n",
       "  'Raw Wikipedia Results': 'The Internet (or internet) is the global system of interconnected computer networks that uses the Internet protocol suite (TCP/IP) to communicate between networks and devices. It is a network of networks that consists of private, public, academic, business, and government networks of local to global scope, linked by a broad array of electronic, wireless, and optical networking technologies. The Internet carries a vast range of information resources and services, such as the interlinked hypertext documents and applications of the World Wide Web (WWW), electronic mail, internet telephony, and file sharing.\\nThe origins of the Internet date back to research that enabled the time-sharing of computer resources, the development of packet switching in the 1960s and the design of computer networks for data communication. The set of rules (communication protocols) to enable internetworking on the Internet arose from research and development commissioned in the 1970s by the Defense Advanced Research Projects Agency (DARPA) of the United States Department of Defense in collaboration with universities and researchers across the United States and in the United Kingdom and France. The ARPANET initially served as a backbone for the interconnection of regional academic and military networks in the United States to enable resource sharing. The funding of the National Science Foundation Network as a new backbone in the 1980s, as well as private funding for other commercial extensions, encouraged worldwide participation in the development of new networking technologies and the merger of many networks using DARPA\\'s Internet protocol suite. The linking of commercial networks and enterprises by the early 1990s, as well as the advent of the World Wide Web, marked the beginning of the transition to the modern Internet, and generated sustained exponential growth as generations of institutional, personal, and mobile computers were connected to the internetwork. Although the Internet was widely used by academia in the 1980s, the subsequent commercialization of the Internet in the 1990s and beyond incorporated its services and technologies into virtually every aspect of modern life.\\nMost traditional communication media, including telephone, radio, television, paper mail, and newspapers, are reshaped, redefined, or even bypassed by the Internet, giving birth to new services such as email, Internet telephone, Internet radio, Internet television, online music, digital newspapers, and audio and video streaming websites. Newspapers, books, and other print publishing have adapted to website technology or have been reshaped into blogging, web feeds, and online news aggregators. The Internet has enabled and accelerated new forms of personal interaction through instant messaging, Internet forums, and social networking services. Online shopping has grown exponentially for major retailers, small businesses, and entrepreneurs, as it enables firms to extend their \"brick and mortar\" presence to serve a larger market or even sell goods and services entirely online. Business-to-business and financial services on the Internet affect supply chains across entire industries.\\nThe Internet has no single centralized governance in either technological implementation or policies for access and usage; each constituent network sets its own policies. The overarching definitions of the two principal name spaces on the Internet, the Internet Protocol address (IP address) space and the Domain Name System (DNS), are directed by a maintainer organization, the Internet Corporation for Assigned Names and Numbers (ICANN). The technical underpinning and standardization of the core protocols is an activity of the Internet Engineering Task Force (IETF), a non-profit organization of loosely affiliated international participants that anyone may associate with by contributing technical expertise. In November 2006, the Internet was included on USA Today\\'s list of the New Seven Wonders.',\n",
       "  'Answer': 'The Internet was invented on 2006.'},\n",
       " {'Question': 'When did the Berlin Wall fall?',\n",
       "  'Wikipedia Search': 'the Berlin Wall',\n",
       "  'Raw Wikipedia Results': 'The Berlin Wall (German: Berliner Mauer, pronounced [bɛʁˌliːnɐ ˈmaʊɐ] ) was a guarded concrete barrier that encircled West Berlin from 1961 to 1989, separating it from East Berlin and the German Democratic Republic (GDR; East Germany). Construction of the Berlin Wall was commenced by the government of the GDR on 13 August 1961. It included guard towers placed along large concrete walls, accompanied by a wide area (later known as the \"death strip\") that contained anti-vehicle trenches, beds of nails and other defenses. The primary intention for the Wall\\'s construction was to prevent East German citizens from fleeing to the West.\\nThe Soviet Bloc propaganda portrayed the Wall as protecting its population from \"fascist elements conspiring to prevent the will of the people\" from building a communist state in the GDR. The authorities officially referred to the Berlin Wall as the Anti-Fascist Protection Rampart (German: Antifaschistischer Schutzwall, pronounced [antifaˌʃɪstɪʃɐ ˈʃʊtsval] ). Conversely, West Berlin\\'s city government sometimes referred to it as the \"Wall of Shame\", a term coined by mayor Willy Brandt in reference to the Wall\\'s restriction on freedom of movement. Along with the separate and much longer inner German border, which demarcated the border between East and West Germany, it came to symbolize physically the Iron Curtain that separated the Western Bloc and Soviet satellite states of the Eastern Bloc during the Cold War.\\nBefore the Wall\\'s erection, 3.5 million East Germans circumvented Eastern Bloc emigration restrictions and defected from the GDR, many by crossing over the border from East Berlin into West Berlin; from there they could then travel to West Germany and to other Western European countries. Between 1961 and 1989, the deadly force associated with the Wall prevented almost all such emigration. During this period, over 100,000 people attempted to escape, and over 5,000 people succeeded in escaping over the Wall, with an estimated death toll of those murdered by East German authorities ranging from 136 to more than 200 in and around Berlin.\\nIn 1989, a series of revolutions in nearby Eastern Bloc countries (Poland and Hungary in particular) and the events of the \"Pan-European Picnic\" set in motion a peaceful development during which the Iron Curtain largely broke, rulers in the East came under public pressure to cease their repressive policies. After several weeks of civil unrest, the East German government announced on 9 November 1989 that all GDR citizens could visit the FRG and West Berlin. Crowds of East Germans crossed and climbed onto the Wall, joined by West Germans on the other side, and souvenir hunters chipped away parts of the Wall over the next few weeks. The Brandenburg Gate, a few meters from the Berlin Wall, reopened on 22 December 1989, with demolition of the Wall beginning on 13 June 1990 and concluding in 1994. The fall of the Berlin Wall paved the way for German reunification, which formally took place on 3 October 1990.',\n",
       "  'Answer': 'The Berlin Wall did fall on 22 December 1989.'},\n",
       " {'Question': 'Who discovered Pluto?',\n",
       "  'Wikipedia Search': 'Pluto',\n",
       "  'Raw Wikipedia Results': \"Pluto (minor-planet designation: 134340 Pluto) is a dwarf planet in the Kuiper belt, a ring of bodies beyond the orbit of Neptune. It is the ninth-largest and tenth-most-massive known object to directly orbit the Sun. It is the largest known trans-Neptunian object by volume by a small margin, but is less massive than Eris. Like other Kuiper belt objects, Pluto is made primarily of ice and rock and is much smaller than the inner planets. Pluto has roughly one-sixth the mass of the Moon, and one-third its volume.\\nOriginally considered a planet, its status was changed when a new definition of the word was adopted by astronomers. \\nPluto has a moderately eccentric and inclined orbit, ranging from 30 to 49 astronomical units (4.5 to 7.3 billion kilometres; 2.8 to 4.6 billion miles) from the Sun. Light from the Sun takes 5.5 hours to reach Pluto at its orbital distance of 39.5 AU (5.91 billion km; 3.67 billion mi). Pluto's eccentric orbit periodically brings it closer to the Sun than Neptune, but a stable orbital resonance prevents them from colliding.\\nPluto has five known moons: Charon, the largest, whose diameter is just over half that of Pluto; Styx; Nix; Kerberos; and Hydra. Pluto and Charon are sometimes considered a binary system because the barycenter of their orbits does not lie within either body, and they are tidally locked. New Horizons was the first spacecraft to visit Pluto and its moons, making a flyby on July 14, 2015, and taking detailed measurements and observations.\\nPluto was discovered in 1930 by Clyde W. Tombaugh, making it the first known object in the Kuiper belt. It was immediately hailed as the ninth planet. However,:\\u200a27\\u200a its planetary status was questioned when it was found to be much smaller than expected. These doubts increased following the discovery of additional objects in the Kuiper belt starting in the 1990s, particularly the more massive scattered disk object Eris in 2005. In 2006, the International Astronomical Union (IAU) formally redefined the term planet to exclude dwarf planets such as Pluto. Many planetary astronomers, however, continue to consider Pluto and other dwarf planets to be planets.\",\n",
       "  'Answer': 'Pluto was discovered by Eris.'},\n",
       " {'Question': 'Who invented the Airplane?',\n",
       "  'Wikipedia Search': 'the Airplane',\n",
       "  'Raw Wikipedia Results': 'Airplane! (alternatively titled Flying High!) is a 1980 American disaster comedy film written and directed by Jim Abrahams and brothers David and Jerry Zucker in their directorial debut, and produced by Jon Davison. It stars Robert Hays and Julie Hagerty and features Leslie Nielsen, Robert Stack, Lloyd Bridges, Peter Graves, Kareem Abdul-Jabbar, and Lorna Patterson. It is a parody of the disaster film genre, particularly the 1957 Paramount film Zero Hour!, from which it borrows the plot, central characters, and some dialogue. It also draws many elements from Airport 1975 and other films in the Airport series. It is known for using surreal humor and fast-paced slapstick comedy, including visual and verbal puns, gags, running jokes, and dark humor.\\nReleased by Paramount Pictures, it was a critical and commercial success, grossing $171 million worldwide against a budget of $3.5 million. The creators received the Writers Guild of America Award for Best Adapted Comedy, and nominations for the Golden Globe Award for Best Motion Picture – Musical or Comedy and for the BAFTA Award for Best Screenplay.\\nSince its release, the film’s reputation has grown substantially. It ranked sixth on Bravo\\'s 100 Funniest Movies. In a 2007 survey by Channel 4 in the United Kingdom, it was judged the second-greatest comedy of all time, behind Monty Python\\'s Life of Brian. In 2008, it was selected by Empire magazine as one of \\'The 500 Greatest Movies of All Time\\', and in 2012 was voted #1 on The 50 Funniest Comedies Ever poll. In 2010, it was selected for preservation in the United States National Film Registry by the Library of Congress as being \"culturally, historically, or aesthetically significant\".',\n",
       "  'Answer': 'The Airplane was invented by Jim Abrahams.'},\n",
       " {'Question': 'What is Plutonium?',\n",
       "  'Wikipedia Search': 'Plutonium',\n",
       "  'Raw Wikipedia Results': \"Plutonium is a chemical element; it has symbol Pu and atomic number 94. It is a silvery-gray actinide metal that tarnishes when exposed to air, and forms a dull coating when oxidized. The element normally exhibits six allotropes and four oxidation states. It reacts with carbon, halogens, nitrogen, silicon, and hydrogen. When exposed to moist air, it forms oxides and hydrides that can expand the sample up to 70% in volume, which in turn flake off as a powder that is pyrophoric. It is radioactive and can accumulate in bones, which makes the handling of plutonium dangerous.\\nPlutonium was first synthesized and isolated in late 1940 and early 1941, by deuteron bombardment of uranium-238 in the 1.5-metre (60 in) cyclotron at the University of California, Berkeley. First, neptunium-238 (half-life 2.1 days) was synthesized, which then beta-decayed to form the new element with atomic number 94 and atomic weight 238 (half-life 88 years). Since uranium had been named after the planet Uranus and neptunium after the planet Neptune, element 94 was named after Pluto, which at the time was also considered a planet. Wartime secrecy prevented the University of California team from publishing its discovery until 1948.\\nPlutonium is the element with the highest atomic number known to occur in nature. Trace quantities arise in natural uranium deposits when uranium-238 captures neutrons emitted by decay of other uranium-238 atoms. The heavy isotope plutonium-244 has a half-life long enough that extreme trace quantities should have survived primordially (from the Earth's formation) to the present, but so far experiments have not yet been sensitive enough to detect it.\\nBoth plutonium-239 and plutonium-241 are fissile, meaning they can sustain a nuclear chain reaction, leading to applications in nuclear weapons and nuclear reactors. Plutonium-240 has a high rate of spontaneous fission, raising the neutron flux of any sample containing it. The presence of plutonium-240 limits a plutonium sample's usability for weapons or its quality as reactor fuel, and the percentage of plutonium-240 determines its grade (weapons-grade, fuel-grade, or reactor-grade). Plutonium-238 has a half-life of 87.7 years and emits alpha particles. It is a heat source in radioisotope thermoelectric generators, which are used to power some spacecraft. Plutonium isotopes are expensive and inconvenient to separate, so particular isotopes are usually manufactured in specialized reactors.\\nProducing plutonium in useful quantities for the first time was a major part of the Manhattan Project during World War II that developed the first atomic bombs. The Fat Man bombs used in the Trinity nuclear test in July 1945, and in the bombing of Nagasaki in August 1945, had plutonium cores. Human radiation experiments studying plutonium were conducted without informed consent, and several criticality accidents, some lethal, occurred after the war. Disposal of plutonium waste from nuclear power plants and dismantled nuclear weapons built during the Cold War is a nuclear-proliferation and environmental concern. Other sources of plutonium in the environment are fallout from many above-ground nuclear tests, which are now banned.\",\n",
       "  'Answer': 'Plutonium is a chemical element; it has symbol Pu and atomic number 94.'},\n",
       " {'Question': 'What is String Theory?',\n",
       "  'Wikipedia Search': 'String Theory',\n",
       "  'Raw Wikipedia Results': 'In physics, string theory is a theoretical framework in which the point-like particles of particle physics are replaced by one-dimensional objects called strings. String theory describes how these strings propagate through space and interact with each other. On distance scales larger than the string scale, a string acts like a particle, with its mass, charge, and other properties determined by the vibrational state of the string. In string theory, one of the many vibrational states of the string corresponds to the graviton, a quantum mechanical particle that carries the gravitational force. Thus, string theory is a theory of quantum gravity.\\nString theory is a broad and varied subject that attempts to address a number of deep questions of fundamental physics. String theory has contributed a number of advances to mathematical physics, which have been applied to a variety of problems in black hole physics, early universe cosmology, nuclear physics, and condensed matter physics, and it has stimulated a number of major developments in pure mathematics. Because string theory potentially provides a unified description of gravity and particle physics, it is a candidate for a theory of everything, a self-contained mathematical model that describes all fundamental forces and forms of matter. Despite much work on these problems, it is not known to what extent string theory describes the real world or how much freedom the theory allows in the choice of its details.\\nString theory was first studied in the late 1960s as a theory of the strong nuclear force, before being abandoned in favor of quantum chromodynamics. Subsequently, it was realized that the very properties that made string theory unsuitable as a theory of nuclear physics made it a promising candidate for a quantum theory of gravity. The earliest version of string theory, bosonic string theory, incorporated only the class of particles known as bosons. It later developed into superstring theory, which posits a connection called supersymmetry between bosons and the class of particles called fermions. Five consistent versions of superstring theory were developed before it was conjectured in the mid-1990s that they were all different limiting cases of a single theory in eleven dimensions known as M-theory. In late 1997, theorists discovered an important relationship called the anti-de Sitter/conformal field theory correspondence (AdS/CFT correspondence), which relates string theory to another type of physical theory called a quantum field theory.\\nOne of the challenges of string theory is that the full theory does not have a satisfactory definition in all circumstances. Another issue is that the theory is thought to describe an enormous landscape of possible universes, which has complicated efforts to develop theories of particle physics based on string theory. These issues have led some in the community to criticize these approaches to physics, and to question the value of continued research on string theory unification.',\n",
       "  'Answer': 'In physics, string theory is a theoretical framework in which the point-like particles of particle physics are replaced by one-dimensional objects called strings.'},\n",
       " {'Question': 'What is a Regolith?',\n",
       "  'Wikipedia Search': 'a Regolith',\n",
       "  'Raw Wikipedia Results': 'Regolith () is a blanket of unconsolidated, loose, heterogeneous superficial deposits covering solid rock. It includes dust, broken rocks, and other related materials and is present on Earth, the Moon, Mars, some asteroids, and other terrestrial planets and moons.',\n",
       "  'Answer': 'Regolith is a blanket of unconsolidated, loose, heterogeneous superficial deposits covering solid rock.'},\n",
       " {'Question': 'What is a Hummock?',\n",
       "  'Wikipedia Search': 'a Hummock',\n",
       "  'Raw Wikipedia Results': 'In geology, a hummock is a small knoll or mound above ground. They are typically less than 15 meters (50 ft) in height and tend to appear in groups or fields. Large landslide avalanches that typically occur in volcanic areas are responsible for formation of hummocks. From the initiation of the landslide to the final formation, hummocks can be characterized by their evolution, spatial distribution, and internal structure. As the movement of landslide begins, the extension faulting results in formation of hummocks with smaller ones at the front of the landslide and larger ones in the back. The size of the hummocks is dependent on their position in the initial mass. As this mass spreads, the hummocks further modify to break up or merge to form larger structures. It is difficult to make generalizations about hummocks because of the diversity in their morphology and sedimentology. An extremely irregular surface may be called hummocky.\\nAn ice hummock is a boss or rounded knoll of ice rising above the general level of an ice-field. Hummocky ice is caused by slow and unequal pressure in the main body of the packed ice, and by unequal structure and temperature at a later period.',\n",
       "  'Answer': 'In geology, a hummock is a small knoll or mound above ground.'},\n",
       " {'Question': 'What is a Bicycle?',\n",
       "  'Wikipedia Search': 'a Bicycle',\n",
       "  'Raw Wikipedia Results': 'A bicycle, also called a pedal cycle, bike, push-bike or cycle, is a human-powered or motor-assisted, pedal-driven, single-track vehicle, with two wheels attached to a frame, one behind the other. A bicycle rider is called a cyclist, or bicyclist.\\nBicycles were introduced in the 19th century in Europe. By the early 21st century there were more than 1 billion bicycles. There are many more bicycles than cars. Bicycles are the principal means of transport in many regions. They also provide a popular form of recreation, and have been adapted for use as children\\'s toys. Bicycles are used for fitness, military and police applications, courier services, bicycle racing, and artistic cycling.\\nThe basic shape and configuration of a typical upright or \"safety\" bicycle, has changed little since the first chain-driven model was developed around 1885. However, many details have been improved, especially since the advent of modern materials and computer-aided design. These have allowed for a proliferation of specialized designs for many types of cycling. In the 21st century, electric bicycles have become popular.\\nThe bicycle\\'s invention has had an enormous effect on society, both in terms of culture and of advancing modern industrial methods. Several components that played a key role in the development of the automobile were initially invented for use in the bicycle, including ball bearings, pneumatic tires, chain-driven sprockets, and tension-spoked wheels.',\n",
       "  'Answer': 'A bicycle, also called a pedal cycle, bike, push-bike or cycle, is a human-powered or motor-assisted, pedal-driven, single-track vehicle, with two wheels attached to a frame, one behind the other.'},\n",
       " {'Question': 'Where is the Red Forest located?',\n",
       "  'Wikipedia Search': 'the Red Forest',\n",
       "  'Raw Wikipedia Results': 'The Red Forest (Ukrainian: Рудий ліс, romanized: Rudyi Lis, Russian: Рыжий лес, romanized: Ryzhiy Les, lit.\\u2009\\'ginger-colour forest\\') is the ten-square-kilometre (4 sq mi) area surrounding the Chernobyl Nuclear Power Plant within the Exclusion Zone, located in Polesia. The name \"Red Forest\" comes from the ginger-brown colour of the pine trees after they died following the absorption of high levels of ionizing radiation as a consequence of the Chernobyl nuclear disaster on 26 April 1986. The site remains one of the most contaminated areas in the world today.',\n",
       "  'Answer': 'The Red Forest is located in the Exclusion Zone.'},\n",
       " {'Question': 'Where was the Sistine Chapel painted?',\n",
       "  'Wikipedia Search': 'the Sistine Chapel',\n",
       "  'Raw Wikipedia Results': \"The Sistine Chapel ( SIST-een; Latin: Sacellum Sixtinum; Italian: Cappella Sistina [kapˈpɛlla siˈstiːna]) is a chapel in the Apostolic Palace, the pope's official residence in Vatican City. Originally known as the Cappella Magna ('Great Chapel'), it takes its name from Pope Sixtus IV, who had it built between 1473 and 1481. Since that time, it has served as a place of both religious and functionary papal activity. Today, it is the site of the papal conclave, the process by which a new pope is selected. The chapel's fame lies mainly in the frescoes that decorate its interior, most particularly the Sistine Chapel ceiling and The Last Judgment, both by Michelangelo.\\nDuring the reign of Sixtus IV, a team of Renaissance painters including Sandro Botticelli, Pietro Perugino, Pinturicchio, Domenico Ghirlandaio and Cosimo Rosselli, created a series of frescos depicting the Life of Moses and the Life of Christ, offset by papal portraits above and trompe-l'œil drapery below. They were completed in 1482, and on 15 August 1483 Sixtus IV celebrated the first mass in the Sistine Chapel for the Feast of the Assumption, during which the chapel was consecrated and dedicated to the Virgin Mary.\\nBetween 1508 and 1512, under the patronage of Pope Julius II, Michelangelo painted the chapel's ceiling, a project that changed the course of Western art and is regarded as one of the major artistic accomplishments of human civilization. In a different political climate, after the Sack of Rome, he returned and, between 1535 and 1541, painted The Last Judgment for Popes Clement VII and Paul III. The fame of Michelangelo's paintings has drawn multitudes of visitors to the chapel since they were revealed five centuries ago.\",\n",
       "  'Answer': 'The Sistine Chapel was painted in the Apostolic Palace.'},\n",
       " {'Question': 'Where is the Apostolic Palace?',\n",
       "  'Wikipedia Search': 'the Apostolic Palace',\n",
       "  'Raw Wikipedia Results': 'The Apostolic Palace is the official residence of the Pope, the head of the Catholic Church, located in Vatican City. It is also known as the Papal Palace, the Palace of the Vatican and the Vatican Palace. The Vatican itself refers to the building as the Palace of Sixtus V, in honor of Pope Sixtus V, who built most of the present form of the palace.\\n\\nThe building contains the papal apartments, various offices of the Catholic Church and the Holy See, private and public chapels, Vatican Museums, and the Vatican Library, including the Sistine Chapel, Raphael Rooms, and Borgia Apartment. The modern tourist can see these last and other parts of the palace, but other parts, such as the Sala Regia (Regal Room) and Cappella Paolina, had long been closed to tourists, though the Sala Regia allowed occasional tourism by 2019. The Scala Regia (Regal Staircase) can be viewed from one end and used to enter the Sala Regia. The Cappella Paolina remains closed to tourists.',\n",
       "  'Answer': 'The Apostolic Palace is in Vatican City.'},\n",
       " {'Question': 'Where is the Colloseum?',\n",
       "  'Wikipedia Search': 'the Colloseum',\n",
       "  'Raw Wikipedia Results': 'The Colosseum ( KOL-ə-SEE-əm; Italian: Colosseo [kolosˈsɛːo], ultimately from Ancient Greek word \"kolossos\" meaning a large statue or giant) is an elliptical amphitheatre in the centre of the city of Rome, Italy, just east of the Roman Forum. It is the largest ancient amphitheatre ever built, and is still the largest standing amphitheatre in the world, despite its age. Construction began under the Emperor Vespasian (r.\\u200969–79 AD) in 72 and was completed in AD 80 under his successor and heir, Titus (r.\\u200979–81). Further modifications were made during the reign of Domitian (r.\\u200981–96). The three emperors who were patrons of the work are known as the Flavian dynasty, and the amphitheatre was named the Flavian Amphitheatre (Latin: Amphitheatrum Flavium; Italian: Anfiteatro Flavio [aɱfiteˈaːtro ˈflaːvjo]) by later classicists and archaeologists for its association with their family name (Flavius).\\nThe Colosseum is built of travertine limestone, tuff (volcanic rock), and brick-faced concrete. It could hold an estimated 50,000 to 80,000 spectators at various points in its history, having an average audience of some 65,000; it was used for gladiatorial contests and public spectacles including animal hunts, executions, re-enactments of famous battles, dramas based on Roman mythology, and briefly mock sea battles. The building ceased to be used for entertainment in the early medieval era. It was later reused for such purposes as housing, workshops, quarters for a religious order, a fortress, a quarry, and a Christian shrine.\\nAlthough substantially ruined by earthquakes and stone robbers taking spolia, the Colosseum is still a renowned symbol of Imperial Rome and was listed as one of the New 7 Wonders of the World. It is one of Rome\\'s most popular tourist attractions and has links to the Catholic Church, as each Good Friday the Pope leads a torchlit \"Way of the Cross\" procession that starts in the area around the Colosseum. The Colosseum is depicted on the Italian version of the 5 euro cent coin.',\n",
       "  'Answer': 'The Colloseum is in Rome.'},\n",
       " {'Question': 'Where was the Taj Mahal built?',\n",
       "  'Wikipedia Search': 'the Taj Mahal',\n",
       "  'Raw Wikipedia Results': 'The Taj Mahal ( TAHJ mə-HAHL, TAHZH -\\u2060; Hindi: [taːdʒ ˈmɛɦ(ɛ)l]; lit.\\u2009\\'Crown of the Palace\\') is an ivory-white marble mausoleum on the right bank of the river Yamuna in Agra, Uttar Pradesh, India. It was commissioned in 1631 by the fifth Mughal emperor, Shah Jahan (r.\\u20091628–1658) to house the tomb of his beloved wife, Mumtaz Mahal; it also houses the tomb of Shah Jahan himself. The tomb is the centrepiece of a 17-hectare (42-acre) complex, which includes a mosque and a guest house, and is set in formal gardens bounded on three sides by a crenellated wall.\\nConstruction of the mausoleum was completed in 1648, but work continued on other phases of the project for another five years. The first ceremony held at the mausoleum was an observance by Shah Jahan, on 6 February 1643, of the 12th anniversary of the death of Mumtaz Mahal. The Taj Mahal complex is believed to have been completed in its entirety in 1653 at a cost estimated at the time to be around ₹32 million, which in 2015 would be approximately ₹52.8 billion (US$827 million).\\nThe building complex incorporates the design traditions of Indo-Islamic and Mughal architecture. It employs symmetrical constructions with the usage of various shapes and symbols. While the mausoleum is constructed of white marble inlaid with semi-precious stones, red sandstone was used for other buildings in the complex similar to the Mughal era buildings of the time. The construction project employed more than 20,000 workers and artisans under the guidance of a board of architects led by Ustad Ahmad Lahori, the emperor\\'s court architect.\\nThe Taj Mahal was designated as a UNESCO World Heritage Site in 1983 for being \"the jewel of Islamic art in India and one of the universally admired masterpieces of the world\\'s heritage\". It is regarded as one of the best examples of Mughal architecture and a symbol of Indian history. The Taj Mahal is a major tourist attraction and attracts more than five million visitors a year. In 2007, it was declared a winner of the New 7 Wonders of the World initiative. The Taj Mahal and its setting, surrounding grounds, and structures are a Monument of National Importance, administered by the Archaeological Survey of India.',\n",
       "  'Answer': 'The Taj Mahal was built in Agra.'},\n",
       " {'Question': 'When was the Berlin Wall built?',\n",
       "  'Wikipedia Search': 'the Berlin Wall',\n",
       "  'Raw Wikipedia Results': 'The Berlin Wall (German: Berliner Mauer, pronounced [bɛʁˌliːnɐ ˈmaʊɐ] ) was a guarded concrete barrier that encircled West Berlin from 1961 to 1989, separating it from East Berlin and the German Democratic Republic (GDR; East Germany). Construction of the Berlin Wall was commenced by the government of the GDR on 13 August 1961. It included guard towers placed along large concrete walls, accompanied by a wide area (later known as the \"death strip\") that contained anti-vehicle trenches, beds of nails and other defenses. The primary intention for the Wall\\'s construction was to prevent East German citizens from fleeing to the West.\\nThe Soviet Bloc propaganda portrayed the Wall as protecting its population from \"fascist elements conspiring to prevent the will of the people\" from building a communist state in the GDR. The authorities officially referred to the Berlin Wall as the Anti-Fascist Protection Rampart (German: Antifaschistischer Schutzwall, pronounced [antifaˌʃɪstɪʃɐ ˈʃʊtsval] ). Conversely, West Berlin\\'s city government sometimes referred to it as the \"Wall of Shame\", a term coined by mayor Willy Brandt in reference to the Wall\\'s restriction on freedom of movement. Along with the separate and much longer inner German border, which demarcated the border between East and West Germany, it came to symbolize physically the Iron Curtain that separated the Western Bloc and Soviet satellite states of the Eastern Bloc during the Cold War.\\nBefore the Wall\\'s erection, 3.5 million East Germans circumvented Eastern Bloc emigration restrictions and defected from the GDR, many by crossing over the border from East Berlin into West Berlin; from there they could then travel to West Germany and to other Western European countries. Between 1961 and 1989, the deadly force associated with the Wall prevented almost all such emigration. During this period, over 100,000 people attempted to escape, and over 5,000 people succeeded in escaping over the Wall, with an estimated death toll of those murdered by East German authorities ranging from 136 to more than 200 in and around Berlin.\\nIn 1989, a series of revolutions in nearby Eastern Bloc countries (Poland and Hungary in particular) and the events of the \"Pan-European Picnic\" set in motion a peaceful development during which the Iron Curtain largely broke, rulers in the East came under public pressure to cease their repressive policies. After several weeks of civil unrest, the East German government announced on 9 November 1989 that all GDR citizens could visit the FRG and West Berlin. Crowds of East Germans crossed and climbed onto the Wall, joined by West Germans on the other side, and souvenir hunters chipped away parts of the Wall over the next few weeks. The Brandenburg Gate, a few meters from the Berlin Wall, reopened on 22 December 1989, with demolition of the Wall beginning on 13 June 1990 and concluding in 1994. The fall of the Berlin Wall paved the way for German reunification, which formally took place on 3 October 1990.',\n",
       "  'Answer': 'The Berlin Wall was built on 1961.'},\n",
       " {'Question': 'When did the French Revolution start?',\n",
       "  'Wikipedia Search': 'the French Revolution',\n",
       "  'Raw Wikipedia Results': 'The French Revolution (French: Révolution française [ʁevɔlysjɔ̃ fʁɑ̃sɛːz]) was a period of political and societal change in France which began with the Estates General of 1789 and ended with the Coup of 18 Brumaire on 9 November 1799. Many of the revolution\\'s ideas are considered fundamental principles of liberal democracy, and its values remain central to modern French political discourse.\\nThe causes of the revolution were a combination of social, political, and economic factors which the ancien régime (\"old regime\") proved unable to manage. A financial crisis and widespread social distress led to the convocation of the Estates General in May 1789, its first meeting since 1614. The representatives of the Third Estate broke away and re-constituted themselves as a National Assembly in June. The Storming of the Bastille in Paris on 14 July was followed by radical measures by the Assembly, among them the abolition of feudalism, state control over the Catholic Church, and a declaration of rights. The next three years were dominated by a struggle for political control. King Louis XVI\\'s attempted flight to Varennes in June 1791 further discredited the monarchy, and military defeats after the outbreak of the French Revolutionary Wars in April 1792 led to an armed insurrection on 10 August 1792. The monarchy was replaced by the French First Republic in September, and Louis XVI was executed in January 1793.\\nAfter another revolt in June 1793, the constitution was suspended, and political power passed from the National Convention to the Committee of Public Safety, dominated by radical Jacobins led by Maximilien Robespierre. About 16,000 people were sentenced by the Revolutionary Tribunal and executed in the Reign of Terror, which ended in July 1794 with the Thermidorian Reaction. Weakened by external threats and internal opposition, the Committee of Public Safety was replaced in November 1795 by the Directory. Its instability ended in the coup of 18 Brumaire and the establishment of the Consulate, with Napoleon Bonaparte as First Consul.',\n",
       "  'Answer': 'The French Revolution did start on 1789.'},\n",
       " {'Question': 'When was the Battle of Hastings?',\n",
       "  'Wikipedia Search': 'the Battle Hastings',\n",
       "  'Raw Wikipedia Results': \"The Battle of Hastings was fought on 14 October 1066 between the Norman-French army of William, Duke of Normandy, and an English army under the Anglo-Saxon king Harold Godwinson, beginning the Norman Conquest of England. It took place approximately 7 mi (11 km) northwest of Hastings, close to the present-day town of Battle, East Sussex, and was a decisive Norman victory.\\nThe background to the battle was the death of the childless king Edward the Confessor in January 1066, which set up a succession struggle between several claimants to his throne. Harold was crowned king shortly after Edward's death but faced invasions by William, his own brother Tostig, and the Norwegian king Harald Hardrada (Harold III of Norway). Hardrada and Tostig defeated a hastily gathered army of Englishmen at the Battle of Fulford on 20 September 1066. They were in turn defeated by Harold at the Battle of Stamford Bridge five days later. The deaths of Tostig and Hardrada at Stamford Bridge left William as Harold's only serious opponent. While Harold and his forces were recovering, William landed his invasion forces in the south of England at Pevensey on 28 September 1066 and established a beachhead for his conquest of the kingdom. Harold was forced to march south swiftly, gathering forces as he went.\\nThe exact numbers present at the battle are unknown as even modern estimates vary considerably. The composition of the forces is clearer: the English army was composed almost entirely of infantry and had few archers, whereas only about half of the invading force was infantry, the rest split equally between cavalry and archers. Harold appears to have tried to surprise William, but scouts found his army and reported its arrival to William, who marched from Hastings to the battlefield to confront Harold. The battle lasted from about 9 am to dusk. Early efforts of the invaders to break the English battle lines had little effect. Therefore, the Normans adopted the tactic of pretending to flee in panic and then turning on their pursuers. Harold's death, probably near the end of the battle, led to the retreat and defeat of most of his army. After further marching and some skirmishes, William was crowned as king on Christmas Day 1066.\\nThere continued to be rebellions and resistance to William's rule, but Hastings effectively marked the culmination of William's conquest of England. Casualty figures are hard to come by, but some historians estimate that 2,000 invaders died along with about twice that number of Englishmen. William founded a monastery at the site of the battle, the high altar of the abbey church supposedly placed at the spot where Harold died.\",\n",
       "  'Answer': 'The Battle Hastings was on 14 October 1066.'},\n",
       " {'Question': 'When was the Wheel created?',\n",
       "  'Wikipedia Search': 'the Wheel',\n",
       "  'Raw Wikipedia Results': \"A wheel is a rotating component (typically circular in shape) that is intended to turn on an axle bearing. The wheel is one of the key components of the wheel and axle which is one of the six simple machines. Wheels, in conjunction with axles, allow heavy objects to be moved easily facilitating movement or transportation while supporting a load, or performing labor in machines. Wheels are also used for other purposes, such as a ship's wheel, steering wheel, potter's wheel, and flywheel.\\nCommon examples can be found in transport applications. A wheel reduces friction by facilitating motion by rolling together with the use of axles. In order for wheels to rotate, a moment needs to be applied to the wheel about its axis, either by way of gravity or by the application of another external force or torque.\",\n",
       "  'Answer': None},\n",
       " {'Question': 'When did the Industrial Revolution start?',\n",
       "  'Wikipedia Search': 'the Industrial Revolution',\n",
       "  'Raw Wikipedia Results': 'The Industrial Revolution, sometimes divided into the First Industrial Revolution and Second Industrial Revolution, was a transitional period of the global economy toward more widespread, efficient and stable manufacturing processes, succeeding the Second Agricultural Revolution. Beginning in Great Britain around 1760, the Industrial Revolution had spread to continental Europe and the United States by about 1840. This transition included going from hand production methods to machines; new chemical manufacturing and iron production processes; the increasing use of water power and steam power; the development of machine tools; and the rise of the mechanised factory system. Output greatly increased, and the result was an unprecedented rise in population and the rate of population growth. The textile industry was the first to use modern production methods,:\\u200a40\\u200a and textiles became the dominant industry in terms of employment, value of output, and capital invested.\\nMany of the technological and architectural innovations were of British origin. By the mid-18th century, Britain was the world\\'s leading commercial nation, controlling a global trading empire with colonies in North America and the Caribbean. Britain had major military and political hegemony on the Indian subcontinent; particularly with the proto-industrialised Mughal Bengal, which underwent the de-industrialisation of India through the activities of the East India Company. The development of trade and the rise of business were among the major causes of the Industrial Revolution.:\\u200a15\\u200a Developments in law also facilitated the revolution, such as courts ruling in favour of property rights. An entrepreneurial spirit and consumer revolution helped drive industrialisation in Britain, which after 1800, was emulated in Belgium, the United States, and France.\\nThe Industrial Revolution marked a major turning point in history, comparable only to humanity\\'s adoption of agriculture with respect to material advancement. The Industrial Revolution influenced in some way almost every aspect of daily life. In particular, average income and population began to exhibit unprecedented sustained growth. Some economists have said the most important effect of the Industrial Revolution was that the standard of living for the general population in the Western world began to increase consistently for the first time in history, although others have said that it did not begin to improve meaningfully until the late 19th and 20th centuries. GDP per capita was broadly stable before the Industrial Revolution and the emergence of the modern capitalist economy, while the Industrial Revolution began an era of per-capita economic growth in capitalist economies. Economic historians agree that the onset of the Industrial Revolution is the most important event in human history since the domestication of animals and plants.\\nThe precise start and end of the Industrial Revolution is still debated among historians, as is the pace of economic and social changes. According to Cambridge historian Leigh Shaw-Taylor, Britain was already industrialising in the 17th century, and \"Our database shows that a groundswell of enterprise and productivity transformed the economy in the 17th century, laying the foundations for the world\\'s first industrial economy. Britain was already a nation of makers by the year 1700\" and \"the history of Britain needs to be rewritten\". Eric Hobsbawm held that the Industrial Revolution began in Britain in the 1780s and was not fully felt until the 1830s or 1840s, while T. S. Ashton held that it occurred roughly between 1760 and 1830. Rapid adoption of mechanized textiles spinning occurred in Britain in the 1780s, and high rates of growth in steam power and iron production occurred after 1800. Mechanised textile production spread from Great Britain to continental Europe and the United States in the early 19th century, with important centres of textiles, iron and coal emerging in Belgium and the United States and later textiles in France.\\nAn economic recession occurred from the late 1830s to the early 1840s when the adoption of the Industrial Revolution\\'s early innovations, such as mechanised spinning and weaving, slowed as their markets matured; and despite the increasing adoption of locomotives, steamboats and steamships, and hot blast iron smelting. New technologies such as the electrical telegraph, widely introduced in the 1840s and 1850s in the United Kingdom and the United States, were not powerful enough to drive high rates of economic growth.\\nRapid economic growth began to reoccur after 1870, springing from a new group of innovations in what has been called the Second Industrial Revolution. These included new steel-making processes, mass production, assembly lines, electrical grid systems, the large-scale manufacture of machine tools, and the use of increasingly advanced machinery in steam-powered factories.',\n",
       "  'Answer': 'The Industrial Revolution did start on 1760.'},\n",
       " {'Question': 'Who was the first President of the United States?',\n",
       "  'Wikipedia Search': 'the first President the United States',\n",
       "  'Raw Wikipedia Results': 'The president of the United States (POTUS) is the head of state and head of government of the United States. The president directs the executive branch of the federal government and is the commander-in-chief of the United States Armed Forces.\\nThe power of the presidency has grown substantially since the first president, George Washington, took office in 1789. While presidential power has ebbed and flowed over time, the presidency has played an increasingly significant role in American political life since the beginning of the 20th century, carrying over into the 21st century with notable expansions during the presidencies of Franklin D. Roosevelt and George W. Bush. In modern times, the president is one of the world\\'s most powerful political figures and the leader of the world\\'s only remaining superpower. As the leader of the nation with the largest economy by nominal GDP, the president possesses significant domestic and international hard and soft power. For much of the 20th century, especially during the Cold War, the U.S. president was often called \"the leader of the free world\".\\nArticle II of the Constitution establishes the executive branch of the federal government and vests executive power in the president. The power includes the execution and enforcement of federal law and the responsibility to appoint federal executive, diplomatic, regulatory, and judicial officers.  Based on constitutional provisions empowering the president to appoint and receive ambassadors and conclude treaties with foreign powers, and on subsequent laws enacted by Congress, the modern presidency has primary responsibility for conducting U.S. foreign policy. The role includes responsibility for directing the world\\'s most expensive military, which has the second-largest nuclear arsenal.\\nThe president also plays a leading role in federal legislation and domestic policymaking. As part of the system of separation of powers, Article I, Section 7 of the Constitution gives the president the power to sign or veto federal legislation. Since modern presidents are typically viewed as leaders of their political parties, major policymaking is significantly shaped by the outcome of presidential elections, with presidents taking an active role in promoting their policy priorities to members of Congress who are often electorally dependent on the president. In recent decades, presidents have also made increasing use of executive orders, agency regulations, and judicial appointments to shape domestic policy.\\nThe president is elected indirectly through the Electoral College to a four-year term, along with the vice president. Under the Twenty-second Amendment, ratified in 1951, no person who has been elected to two presidential terms may be elected to a third. In addition, nine vice presidents have become president by virtue of a president\\'s intra-term death or resignation. In all, 45 individuals have served 47 presidencies spanning 60 four-year terms. Donald Trump is the 47th and current president since January 20, 2025.',\n",
       "  'Answer': 'The first President the United States was George Washington.'},\n",
       " {'Question': 'Who was Thomas Edison?',\n",
       "  'Wikipedia Search': 'Thomas Edison',\n",
       "  'Raw Wikipedia Results': \"Thomas Alva Edison (February 11, 1847 – October 18, 1931) was an American inventor and businessman. He developed many devices in fields such as electric power generation, mass communication, sound recording, and motion pictures. These inventions, which include the phonograph, the motion picture camera, and early versions of the electric light bulb, have had a widespread impact on the modern industrialized world. He was one of the first inventors to apply the principles of organized science and teamwork to the process of invention, working with many researchers and employees. He established the first industrial research laboratory.\\nEdison was raised in the American Midwest. Early in his career he worked as a telegraph operator, which inspired some of his earliest inventions. In 1876, he established his first laboratory facility in Menlo Park, New Jersey, where many of his early inventions were developed. He later established a botanical laboratory in Fort Myers, Florida, in collaboration with businessmen Henry Ford and Harvey S. Firestone, and a laboratory in West Orange, New Jersey, that featured the world's first film studio, the Black Maria. With 1,093 US patents in his name, as well as patents in other countries, Edison is regarded as the most prolific inventor in American history. Edison married twice and fathered six children. He died in 1931 due to complications from diabetes.\",\n",
       "  'Answer': 'Thomas Alva Edison was an American inventor and businessman.'},\n",
       " {'Question': 'Who built the Eiffel Tower?',\n",
       "  'Wikipedia Search': 'the Eiffel Tower',\n",
       "  'Raw Wikipedia Results': 'The Eiffel Tower (  EYE-fəl; French: Tour Eiffel [tuʁ ɛfɛl] ) is a wrought-iron lattice tower on the Champ de Mars in Paris, France. It is named after the engineer Gustave Eiffel, whose company designed and built the tower from 1887 to 1889.\\nLocally nicknamed \"La dame de fer\" (French for \"Iron Lady\"), it was constructed as the centrepiece of the 1889 World\\'s Fair, and to crown the centennial anniversary of the French Revolution. Although initially criticised by some of France\\'s leading artists and intellectuals for its design, it has since become a global cultural icon of France and one of the most recognisable structures in the world. The tower received 5,889,000 visitors in 2022. The Eiffel Tower is the most visited monument with an entrance fee in the world: 6.91 million people ascended it in 2015. It was designated a monument historique in 1964, and was named part of a UNESCO World Heritage Site (\"Paris, Banks of the Seine\") in 1991.\\nThe tower is 330 metres (1,083 ft) tall, about the same height as an 81-storey building, and the tallest structure in Paris. Its base is square, measuring 125 metres (410 ft) on each side. During its construction, the Eiffel Tower surpassed the Washington Monument to become the tallest human-made structure in the world, a title it held for 41 years until the Chrysler Building in New York City was finished in 1930. It was the first structure in the world to surpass both the 200-metre and 300-metre mark in height. Due to the addition of a broadcasting aerial at the top of the tower in 1957, it is now taller than the Chrysler Building by 5.2 metres (17 ft). Excluding transmitters, the Eiffel Tower is the second tallest free-standing structure in France after the Millau Viaduct.\\nThe tower has three levels for visitors, with restaurants on the first and second levels. The top level\\'s upper platform is 276 m (906 ft) above the ground—the highest observation deck accessible to the public in the European Union. Tickets can be purchased to ascend by stairs or lift to the first and second levels. The climb from ground level to the first level is over 300 steps, as is the climb from the first level to the second, making the entire ascent a 600-step climb. Although there is a staircase to the top level, it is usually accessible only by lift. On this top, third level is a private apartment built for Gustave Eiffel\\'s personal use. He decorated it with furniture by Jean Lachaise and invited friends such as Thomas Edison.',\n",
       "  'Answer': 'The Eiffel Tower was built by Gustave Eiffel.'},\n",
       " {'Question': 'Who was Jiang Zamin?',\n",
       "  'Wikipedia Search': 'Jiang Zamin',\n",
       "  'Raw Wikipedia Results': 'Jiang Zemin (17 August 1926 – 30 November 2022) was a Chinese politician who served as general secretary of the Chinese Communist Party (CCP) from 1989 to 2002, as chairman of the Central Military Commission from 1989 to 2004, and as president of China from 1993 to 2003. Jiang was the third paramount leader of China from 1989 to 2002. He was the core leader of the third generation of Chinese leadership, one of four core leaders alongside Mao Zedong, Deng Xiaoping, and Xi Jinping.\\nBorn in Yangzhou, Jiangsu, Jiang joined the CCP while he was in college. After the establishment of the People\\'s Republic of China in 1949, he received training at the Stalin Automobile Works in Moscow in the 1950s, later returning to Shanghai in 1962 to serve in various institutes, later being sent between 1970 and 1972 to Romania as part of an expert team to establish machinery manufacturing plants in the country. After 1979, he was appointed as the vice chair of two commissions by vice premier Gu Mu to oversee the newly established special economic zones (SEZs). He became the vice minister of the newly established Ministry of Electronics Industry and a member of the CCP Central Committee in 1982.\\nJiang was appointed as the mayor of Shanghai in 1985, later being promoted to its Communist Party secretary, as well as a member of the CCP Politburo, in 1987. Jiang came to power unexpectedly as a compromise candidate following the 1989 Tiananmen Square protests and massacre, when he replaced Zhao Ziyang as CCP general secretary after Zhao was ousted for his support for the student movement. As the involvement of the Eight Elders in Chinese politics steadily declined, Jiang consolidated his hold on power to become the \"paramount leader\" in the country during the 1990s. Urged by Deng Xiaoping\\'s southern tour in 1992, Jiang officially introduced the term socialist market economy in his speech during the 14th CCP National Congress held later that year, which accelerated opening up and reform.\\nUnder Jiang\\'s leadership, China experienced substantial economic growth with the continuation of market reforms. The returning of Hong Kong from the United Kingdom in 1997 and of Macau from Portugal in 1999, and entry into the World Trade Organization in 2001, were landmark moments of his era. China also witnessed improved relations with the outside world, while the Communist Party maintained its tight control over the state. Jiang faced criticism over human rights abuses, including the crackdown on the Falun Gong movement. His contributions to party doctrine, known as the Three Represents, were written into the CCP constitution in 2002. Jiang gradually vacated his official leadership titles from 2002 to 2005, being succeeded in these roles by Hu Jintao, although he and his political faction continued to influence affairs until much later. In 2022, Jiang died at the age of 96 in Shanghai; he was accorded a state funeral.',\n",
       "  'Answer': 'Jiang Zemin was a Chinese politician who served as general secretary of the Chinese Communist Party from 1989 to 2002, as chairman of the Central Military Commission from 1989 to 2004, and as president of China from 1993 to 2003.'},\n",
       " {'Question': 'Who invented the Toilet Paper?',\n",
       "  'Wikipedia Search': 'the Toilet Paper',\n",
       "  'Raw Wikipedia Results': 'Toilet paper (sometimes called toilet/bath/bathroom tissue, or toilet roll) is a tissue paper product primarily used to clean the anus and surrounding region of feces (after defecation), and to clean the external genitalia and perineal area of urine (after urination).\\nIt is commonly supplied as a long strip of perforated paper wrapped around a cylindrical paperboard core, for storage in a dispenser within arm\\'s reach of a toilet. The bundle, or roll of toilet paper, is specifically known as a toilet roll, loo roll, or bog roll (in Britain).\\nThere are other uses for toilet paper, as it is a readily available household product. It can be used for blowing the nose or wiping the eyes (or other uses of facial tissue). It can be used to wipe off sweat or absorb it. Some people may use the paper to absorb the bloody discharge that comes out of the vagina during menstruation. Toilet paper can be used in cleaning (like a less abrasive paper towel). As a teenage prank, \"toilet papering\" is a form of temporary vandalism.\\nMost modern toilet paper in the developed world is designed to decompose in septic tanks, whereas some other bathroom and facial tissues are not. Wet toilet paper rapidly decomposes in the environment. Toilet paper comes in various numbers of plies (layers of thickness), from one- to six-ply, with more back-to-back plies providing greater strength and absorbency. Most modern domestic toilet paper is white, and patterned or textured. Some people have a preference for whether the orientation of the roll on a dispenser should be over or under.\\nThe use of paper for hygiene has been recorded in China in the 6th century AD, with specifically manufactured toilet paper being mass-produced in the 14th century. Modern commercial toilet paper originated in the 19th century, with a patent for roll-based dispensers being made in 1883.',\n",
       "  'Answer': 'The Toilet Paper was invented by China in the 6th century AD, with specifically manufactured toilet paper being mass.'}]"
      ]
     },
     "metadata": {},
     "output_type": "display_data"
    }
   ],
   "source": [
    "# Display All the entire Log file (list)\n",
    "display(log_file)"
   ]
  },
  {
   "cell_type": "code",
   "execution_count": 8,
   "id": "7ff6b15a-25b3-45a0-bdb5-c5cf89f11fc6",
   "metadata": {},
   "outputs": [
    {
     "data": {
      "text/plain": [
       "'\\ndef extract_pos_from_question(question):\\n    # Process the question with spaCy\\n    doc = nlp(question)\\n    \\n    # Extract POS tags for each token\\n    pos_tags = [(token.text, token.pos_) for token in doc]\\n\\n    topic = [token.text for token in doc if token.pos_ in [\"DET\", \"NOUN\", \"PROPN\", \"ADJ\", \"ADP\"]]\\n    topic = \" \".join(topic).strip()\\n\\n    verb = [token.text for token in doc if token.pos_ in [\"VERB\", \"AUX\"]]\\n    verb = \" \".join(verb).strip()\\n\\n    # did + verb = verb past tense\\n\\n    # noun + verb + noun = topic?\\n\\n    # between the first and last noun\\n    \\n    return pos_tags, topic, verb\\n\\n# Example question\\nquestion = \"I want to sleep.\"\\n\\n# Extract POS tags\\npos_tags, topic, verb = extract_pos_from_question(question)\\n\\n# Output the POS tags\\nfor word, pos in pos_tags:\\n    print(f\"{word}: {pos}\")\\n\\nprint(f\"{topic} {verb}\")\\n'"
      ]
     },
     "execution_count": 8,
     "metadata": {},
     "output_type": "execute_result"
    }
   ],
   "source": [
    "# FOR TESTING PURPOSES ONLY\n",
    "\"\"\"\n",
    "def extract_pos_from_question(question):\n",
    "    # Process the question with spaCy\n",
    "    doc = nlp(question)\n",
    "    \n",
    "    # Extract POS tags for each token\n",
    "    pos_tags = [(token.text, token.pos_) for token in doc]\n",
    "\n",
    "    topic = [token.text for token in doc if token.pos_ in [\"DET\", \"NOUN\", \"PROPN\", \"ADJ\", \"ADP\"]]\n",
    "    topic = \" \".join(topic).strip()\n",
    "\n",
    "    verb = [token.text for token in doc if token.pos_ in [\"VERB\", \"AUX\"]]\n",
    "    verb = \" \".join(verb).strip()\n",
    "\n",
    "    # did + verb = verb past tense\n",
    "\n",
    "    # noun + verb + noun = topic?\n",
    "\n",
    "    # between the first and last noun\n",
    "    \n",
    "    return pos_tags, topic, verb\n",
    "\n",
    "# Example question\n",
    "question = \"I want to sleep.\"\n",
    "\n",
    "# Extract POS tags\n",
    "pos_tags, topic, verb = extract_pos_from_question(question)\n",
    "\n",
    "# Output the POS tags\n",
    "for word, pos in pos_tags:\n",
    "    print(f\"{word}: {pos}\")\n",
    "\n",
    "print(f\"{topic} {verb}\")\n",
    "\"\"\""
   ]
  },
  {
   "cell_type": "code",
   "execution_count": 9,
   "id": "353f5ae1-58fd-4149-bd8f-c26adcb5e8ca",
   "metadata": {},
   "outputs": [],
   "source": [
    "# References:\n",
    "\n",
    "# [1] Better Stack. (n.d.). JSON logging: The ultimate guide. Better Stack Community. Retrieved March 26, 2025, from https://betterstack.com/community/guides/logging/json-logging/\n",
    "# [2] Explosion AI. (n.d.). DisplaCy: Named entity recognition visualization. Retrieved March 26, 2025, from https://demos.explosion.ai/displacy-ent\n",
    "# [3] Explosion AI. (n.d.). Named entity recognition with spaCy. spaCy. Retrieved March 26, 2025, from https://spacy.io/usage/linguistic-features#named-entities\n",
    "# [4] Explosion AI. (n.d.). Part-of-speech tagging with spaCy. spaCy. Retrieved March 26, 2025, from https://spacy.io/usage/linguistic-features#pos-tagging\n",
    "# [5] GeeksforGeeks. (2021, January 21). Wikipedia module in Python. GeeksforGeeks. Retrieved March 26, 2025, from https://www.geeksforgeeks.org/wikipedia-module-in-python/\n",
    "# [6] Wikipedia-API. (n.d.). Wikipedia-API. PyPI. Retrieved March 26, 2025, from https://pypi.org/project/Wikipedia-API/"
   ]
  }
 ],
 "metadata": {
  "kernelspec": {
   "display_name": "Python 3 (ipykernel)",
   "language": "python",
   "name": "python3"
  },
  "language_info": {
   "codemirror_mode": {
    "name": "ipython",
    "version": 3
   },
   "file_extension": ".py",
   "mimetype": "text/x-python",
   "name": "python",
   "nbconvert_exporter": "python",
   "pygments_lexer": "ipython3",
   "version": "3.12.5"
  }
 },
 "nbformat": 4,
 "nbformat_minor": 5
}
